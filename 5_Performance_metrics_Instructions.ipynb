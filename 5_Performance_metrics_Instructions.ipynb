{
 "cells": [
  {
   "cell_type": "markdown",
   "metadata": {
    "colab_type": "text",
    "id": "s0Ej_bXyQvnV"
   },
   "source": [
    "# Compute performance metrics for the given Y and Y_score without sklearn"
   ]
  },
  {
   "cell_type": "code",
   "execution_count": 1,
   "metadata": {
    "colab": {},
    "colab_type": "code",
    "id": "4CHb6NE7Qvnc"
   },
   "outputs": [],
   "source": [
    "import numpy as np\n",
    "import pandas as pd\n",
    "# other than these two you should not import any other packages"
   ]
  },
  {
   "cell_type": "markdown",
   "metadata": {
    "colab_type": "text",
    "id": "KbsWXuDaQvnq"
   },
   "source": [
    "<pre>\n",
    "<font color='red'><b>A.</b></font> Compute performance metrics for the given data <strong>5_a.csv</strong>\n",
    "   <b>Note 1:</b> in this data you can see number of positive points >> number of negatives points\n",
    "   <b>Note 2:</b> use pandas or numpy to read the data from <b>5_a.csv</b>\n",
    "   <b>Note 3:</b> you need to derive the class labels from given score</pre> $y^{pred}= \\text{[0 if y_score < 0.5 else 1]}$\n",
    "\n",
    "<pre>\n",
    "<ol>\n",
    "<li> Compute Confusion Matrix </li>\n",
    "<li> Compute F1 Score </li>\n",
    "<li> Compute AUC Score, you need to compute different thresholds and for each threshold compute tpr,fpr and then use               numpy.trapz(tpr_array, fpr_array) <a href='https://stackoverflow.com/q/53603376/4084039'>https://stackoverflow.com/q/53603376/4084039</a>, <a href='https://stackoverflow.com/a/39678975/4084039'>https://stackoverflow.com/a/39678975/4084039</a> Note: it should be numpy.trapz(tpr_array, fpr_array) not numpy.trapz(fpr_array, tpr_array)</li>\n",
    "<li> Compute Accuracy Score </li>\n",
    "</ol>\n",
    "</pre>"
   ]
  },
  {
   "cell_type": "code",
   "execution_count": 55,
   "metadata": {
    "colab": {},
    "colab_type": "code",
    "id": "WaFLW7oBQvnt"
   },
   "outputs": [
    {
     "name": "stdout",
     "output_type": "stream",
     "text": [
      "Confusion_matirx : [[10000, 100], [0, 0]]\n",
      "F1 score : 0.995024875622\n",
      "Accuracy Score : 0.990099009901\n",
      "AUC score : 0.488299\n"
     ]
    },
    {
     "data": {
      "image/png": "[encoded data removed]",
      "text/plain": [
       "<Figure size 432x288 with 1 Axes>"
      ]
     },
     "metadata": {
      "needs_background": "light"
     },
     "output_type": "display_data"
    }
   ],
   "source": [
    "import matplotlib.pyplot as plt\n",
    "data_c = pd.read_csv('5_a.csv')\n",
    "data_c['pred'] = np.NaN\n",
    "for index in range(len(data_a)):\n",
    "    data_c['pred'][index] = 0 if data_c['proba'][index] < 0.5 else 1\n",
    "\n",
    "#computing the confusion matrix elements\n",
    "TP = ((data_c['y'] == 1.0) & (data_c['pred'] == 1.0)).sum()\n",
    "TN = ((data_c['y'] == 0.0) & (data_c['pred'] == 0.0)).sum()\n",
    "FP = ((data_c['y'] == 0.0) & (data_c['pred'] == 1.0)).sum()\n",
    "FN = ((data_c['y'] == 1.0) & (data_c['pred'] == 0.0)).sum()\n",
    "confusion_matrix = [[0,0],[0,0]]\n",
    "confusion_matrix[0][0],confusion_matrix[0][1],confusion_matrix[1][0],confusion_matrix[1][1] = TP,FP,FN,TN\n",
    "print('Confusion_matirx : {}'.format(confusion_matrix))\n",
    "\n",
    "#f1_score\n",
    "recoil = float(TP)/(TP+FN)\n",
    "precision = float(TP) / (TP+FP)\n",
    "f1_score = (2 * recoil * precision )/(recoil + precision)\n",
    "print('F1 score : {}'.format(f1_score))\n",
    "\n",
    "#Accuracy_score\n",
    "accuracy_score = (float(TP) + TN )/ (TP+FP+FN+TN)\n",
    "print('Accuracy Score : {}'.format(accuracy_score))\n",
    "\n",
    "#AUC\n",
    "thresholds = sorted(data_c['proba'].unique(),reverse=True)\n",
    "tpr_array = []\n",
    "fpr_array = []\n",
    "\n",
    "for thr in thresholds:\n",
    "    data_c['pred'] = [0 if x<thr else 1 for x in data_c['proba']]\n",
    "    tp = ((data_c['y'] == 1.0) & (data_c['pred'] == 1.0)).sum()\n",
    "    tn = ((data_c['y'] == 0.0) & (data_c['pred'] == 0.0)).sum()\n",
    "    fp = ((data_c['y'] == 0.0) & (data_c['pred'] == 1.0)).sum()\n",
    "    fn = ((data_c['y'] == 1.0) & (data_c['pred'] == 0.0)).sum()\n",
    "    tpr = float(tp)/(tp+fn)\n",
    "    fpr = float(fp)/(fp+tn)\n",
    "    tpr_array.append(tpr)\n",
    "    fpr_array.append(fpr)\n",
    "AUC = np.trapz(tpr_array, fpr_array)\n",
    "print('AUC score : {}'.format(AUC))\n",
    "plt.plot(fpr_array,tpr_array,color='red',lw=2,label='ROC curve')\n",
    "plt.xlabel('False Positive Rate')\n",
    "plt.ylabel('True Positive Rate')\n",
    "plt.title('ROC_CURVE')\n",
    "plt.show()"
   ]
  },
  {
   "cell_type": "markdown",
   "metadata": {
    "colab_type": "text",
    "id": "V5KZem1BQvn2"
   },
   "source": [
    "<pre>\n",
    "<font color='red'><b>B.</b></font> Compute performance metrics for the given data <strong>5_b.csv</strong>\n",
    "   <b>Note 1:</b> in this data you can see number of positive points << number of negatives points\n",
    "   <b>Note 2:</b> use pandas or numpy to read the data from <b>5_b.csv</b>\n",
    "   <b>Note 3:</b> you need to derive the class labels from given score</pre> $y^{pred}= \\text{[0 if y_score < 0.5 else 1]}$\n",
    "\n",
    "<pre>\n",
    "<ol>\n",
    "<li> Compute Confusion Matrix </li>\n",
    "<li> Compute F1 Score </li>\n",
    "<li> Compute AUC Score, you need to compute different thresholds and for each threshold compute tpr,fpr and then use               numpy.trapz(tpr_array, fpr_array) <a href='https://stackoverflow.com/q/53603376/4084039'>https://stackoverflow.com/q/53603376/4084039</a>, <a href='https://stackoverflow.com/a/39678975/4084039'>https://stackoverflow.com/a/39678975/4084039</a></li>\n",
    "<li> Compute Accuracy Score </li>\n",
    "</ol>\n",
    "</pre>"
   ]
  },
  {
   "cell_type": "code",
   "execution_count": 57,
   "metadata": {
    "colab": {},
    "colab_type": "code",
    "id": "U2sKlq0YQvn5",
    "scrolled": true
   },
   "outputs": [
    {
     "name": "stdout",
     "output_type": "stream",
     "text": [
      "Confusion_matirx : [[55, 239], [45, 9761]]\n",
      "F1 score : 0.279187817259\n",
      "Accuracy Score : 0.971881188119\n",
      "AUC score : 0.937757\n"
     ]
    },
    {
     "data": {
      "image/png": "[encoded data removed]",
      "text/plain": [
       "<Figure size 432x288 with 1 Axes>"
      ]
     },
     "metadata": {
      "needs_background": "light"
     },
     "output_type": "display_data"
    }
   ],
   "source": [
    "import matplotlib.pyplot as plt\n",
    "data_c = pd.read_csv('5_b.csv')\n",
    "data_c['pred'] = np.NaN\n",
    "for index in range(len(data_a)):\n",
    "    data_c['pred'][index] = 0 if data_c['proba'][index] < 0.5 else 1\n",
    "\n",
    "#computing the confusion matrix elements\n",
    "TP = ((data_c['y'] == 1.0) & (data_c['pred'] == 1.0)).sum()\n",
    "TN = ((data_c['y'] == 0.0) & (data_c['pred'] == 0.0)).sum()\n",
    "FP = ((data_c['y'] == 0.0) & (data_c['pred'] == 1.0)).sum()\n",
    "FN = ((data_c['y'] == 1.0) & (data_c['pred'] == 0.0)).sum()\n",
    "confusion_matrix = [[0,0],[0,0]]\n",
    "confusion_matrix[0][0],confusion_matrix[0][1],confusion_matrix[1][0],confusion_matrix[1][1] = TP,FP,FN,TN\n",
    "print('Confusion_matirx : {}'.format(confusion_matrix))\n",
    "\n",
    "#f1_score\n",
    "recoil = float(TP)/(TP+FN)\n",
    "precision = float(TP) / (TP+FP)\n",
    "f1_score = (2 * recoil * precision)/(recoil + precision)\n",
    "print('F1 score : {}'.format(f1_score))\n",
    "\n",
    "#Accuracy_score\n",
    "accuracy_score = (float(TP) + TN )/ (TP+FP+FN+TN)\n",
    "print('Accuracy Score : {}'.format(accuracy_score))\n",
    "\n",
    "#AUC\n",
    "thresholds = sorted(data_c['proba'].unique(),reverse=True)\n",
    "tpr_array = []\n",
    "fpr_array = []\n",
    "\n",
    "for thr in thresholds:\n",
    "    data_c['pred'] = [0 if x<thr else 1 for x in data_c['proba']]\n",
    "    tp = ((data_c['y'] == 1.0) & (data_c['pred'] == 1.0)).sum()\n",
    "    tn = ((data_c['y'] == 0.0) & (data_c['pred'] == 0.0)).sum()\n",
    "    fp = ((data_c['y'] == 0.0) & (data_c['pred'] == 1.0)).sum()\n",
    "    fn = ((data_c['y'] == 1.0) & (data_c['pred'] == 0.0)).sum()\n",
    "    tpr = float(tp)/(tp+fn)\n",
    "    fpr = float(fp)/(fp+tn)\n",
    "    tpr_array.append(tpr)\n",
    "    fpr_array.append(fpr)\n",
    "AUC = np.trapz(tpr_array, fpr_array)\n",
    "print('AUC score : {}'.format(AUC))\n",
    "plt.plot(fpr_array,tpr_array,color='red',lw=2,label='ROC curve')\n",
    "plt.xlabel('False Positive Rate')\n",
    "plt.ylabel('True Positive Rate')\n",
    "plt.title('ROC_CURVE')\n",
    "plt.show()"
   ]
  },
  {
   "cell_type": "markdown",
   "metadata": {
    "colab_type": "text",
    "id": "GiPGonTzQvoB"
   },
   "source": [
    "<font color='red'><b>C.</b></font> Compute the best threshold (similarly to ROC curve computation) of probability which gives lowest values of metric <b>A</b> for the given data <strong>5_c.csv</strong>\n",
    "<br>\n",
    "\n",
    "you will be predicting label of a data points like this: $y^{pred}= \\text{[0 if y_score < threshold  else 1]}$\n",
    "\n",
    "$ A = 500 \\times \\text{number of false negative} + 100 \\times \\text{numebr of false positive}$\n",
    "\n",
    "<pre>\n",
    "   <b>Note 1:</b> in this data you can see number of negative points > number of positive points\n",
    "   <b>Note 2:</b> use pandas or numpy to read the data from <b>5_c.csv</b>\n",
    "</pre>"
   ]
  },
  {
   "cell_type": "code",
   "execution_count": 52,
   "metadata": {
    "colab": {},
    "colab_type": "code",
    "id": "x5HIJzq1QvoE"
   },
   "outputs": [
    {
     "name": "stdout",
     "output_type": "stream",
     "text": [
      "The best threshold is : 0.230039027897\n"
     ]
    }
   ],
   "source": [
    "import sys\n",
    "import warnings\n",
    "warnings.filterwarnings('ignore')\n",
    "\n",
    "data_c = pd.read_csv('5_c.csv')\n",
    "#print(data_c['y'].value_counts())\n",
    "data_c['pred'] = np.NaN\n",
    "\n",
    "min_A = sys.maxint\n",
    "min_thr = 1.1\n",
    "thresholds = data_c['prob'].unique()\n",
    "for thr in thresholds:\n",
    "    data_c['pred'] = [0 if x<thr else 1 for x in data_c['prob']]\n",
    "    false_pos = ((data_c['y'] == 0.0) & (data_c['pred'] == 1.0)).sum()\n",
    "    false_neg = ((data_c['y'] == 1.0) & (data_c['pred'] == 0.0)).sum()\n",
    "    A = (500 * false_neg) + (100 * false_pos)\n",
    "    if(A < min_A):\n",
    "        min_A = A\n",
    "        min_thr = thr\n",
    "print('The best threshold is : {}'.format(min_thr))\n"
   ]
  },
  {
   "cell_type": "markdown",
   "metadata": {
    "colab_type": "text",
    "id": "sD4CcgjXQvoL"
   },
   "source": [
    "<pre>\n",
    "<font color='red'><b>D.</b></font> Compute performance metrics(for regression) for the given data <strong>5_d.csv</strong>\n",
    "    <b>Note 2:</b> use pandas or numpy to read the data from <b>5_d.csv</b>\n",
    "    <b>Note 1:</b> <b>5_d.csv</b> will having two columns Y and predicted_Y both are real valued features\n",
    "<ol>\n",
    "<li> Compute Mean Square Error </li>\n",
    "<li> Compute MAPE: https://www.youtube.com/watch?v=ly6ztgIkUxk</li>\n",
    "<li> Compute R^2 error: https://en.wikipedia.org/wiki/Coefficient_of_determination#Definitions </li>\n",
    "</ol>\n",
    "</pre>"
   ]
  },
  {
   "cell_type": "code",
   "execution_count": 16,
   "metadata": {},
   "outputs": [
    {
     "name": "stdout",
     "output_type": "stream",
     "text": [
      "Mean Square Error : 177.165699746\n",
      "MAPE : 0.129120299401\n",
      "R_square error is : 0.957338350708\n"
     ]
    }
   ],
   "source": [
    "\n",
    "data_a = pd.read_csv('5_d.csv')\n",
    "\n",
    "#Mean Squared Error\n",
    "MSE = 0\n",
    "err_sum = 0\n",
    "for index,rows in data_a.iterrows():\n",
    "    err = abs(rows['y'] - rows['pred'])\n",
    "    MSE += (err)**2\n",
    "    err_sum += err\n",
    "MSE = float(MSE)/len(data_a)\n",
    "print('Mean Square Error : {}'.format(MSE))\n",
    "\n",
    "#MAPE\n",
    "MAPE = float(err_sum)/data_a['y'].sum()\n",
    "print('MAPE : {}'.format(MAPE))\n",
    "\n",
    "#R^2 error\n",
    "R_sqr = 0\n",
    "mu = data_a['y'].mean()\n",
    "SStot,SSreg = 0,0\n",
    "for index,rows in data_a.iterrows():\n",
    "    SStot += (rows['y'] - mu)**2\n",
    "    SSreg += (rows['pred'] - mu)**2\n",
    "R_sqr= SSreg/SStot\n",
    "print('R_square error is : {}'.format(R_sqr))\n"
   ]
  }
 ],
 "metadata": {
  "colab": {
   "collapsed_sections": [],
   "name": "5_Performance_metrics_Instructions.ipynb",
   "provenance": []
  },
  "kernelspec": {
   "display_name": "Python 2",
   "language": "python",
   "name": "python2"
  },
  "language_info": {
   "codemirror_mode": {
    "name": "ipython",
    "version": 2
   },
   "file_extension": ".py",
   "mimetype": "text/x-python",
   "name": "python",
   "nbconvert_exporter": "python",
   "pygments_lexer": "ipython2",
   "version": "2.7.16"
  }
 },
 "nbformat": 4,
 "nbformat_minor": 1
}
