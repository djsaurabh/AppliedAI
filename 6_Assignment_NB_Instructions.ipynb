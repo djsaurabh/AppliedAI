{
 "cells": [
  {
   "cell_type": "markdown",
   "metadata": {
    "colab_type": "text",
    "id": "Dnubs-Nnb3cw"
   },
   "source": [
    "# Assignment 6: Apply NB"
   ]
  },
  {
   "cell_type": "markdown",
   "metadata": {
    "colab_type": "text",
    "id": "12krXa2pb3c1"
   },
   "source": [
    "<ol>\n",
    "    <li><strong>Apply Multinomial NB on these feature sets</strong>\n",
    "        <ul>\n",
    "            <li><font color='red'>Set 1</font>: categorical, numerical features + preprocessed_eassay (BOW)</li>\n",
    "            <li><font color='red'>Set 2</font>: categorical, numerical features + preprocessed_eassay (TFIDF)</li>\n",
    "        </ul>\n",
    "    </li>\n",
    "    <li><strong>The hyper paramter tuning(find best alpha:smoothing parameter)</strong>\n",
    "        <ul>\n",
    "    <li>Find the best hyper parameter which will give the maximum <a href='https://www.appliedaicourse.com/course/applied-ai-course-online/lessons/receiver-operating-characteristic-curve-roc-curve-and-auc-1/'>AUC</a> value</li>\n",
    "    <li>find the best hyper paramter using k-fold cross validation(use GridsearchCV or RandomsearchCV)/simple cross validation data (write for loop to iterate over hyper parameter values)</li>\n",
    "    <li></li>\n",
    "        </ul>\n",
    "    </li>\n",
    "    <li>\n",
    "    <strong>Representation of results</strong>\n",
    "        <ul>\n",
    "    <li>You need to plot the performance of model both on train data and cross validation data for each hyper parameter, like shown in the figure\n",
    "    <img src='https://i.imgur.com/hUv6aEy.jpg' width=300px></li>\n",
    "    <li>Once after you found the best hyper parameter, you need to train your model with it, and find the AUC on test data and plot the ROC curve on both train and test.\n",
    "    <img src='https://i.imgur.com/wMQDTFe.jpg' width=300px></li>\n",
    "    <li>Along with plotting ROC curve, you need to print the <a href='https://www.appliedaicourse.com/course/applied-ai-course-online/lessons/confusion-matrix-tpr-fpr-fnr-tnr-1/'>confusion matrix</a> with predicted and original labels of test data points\n",
    "    <img src='https://i.imgur.com/IdN5Ctv.png' width=300px></li>\n",
    "        </ul>\n",
    "    </li>\n",
    "    <li>\n",
    "fine the top 20 features from either from feature <font color='red'>Set 1</font> or feature <font color='red'>Set 2</font> using absolute values of `feature_log_prob_ ` parameter of `MultinomialNB` \n",
    "(https://scikit-learn.org/stable/modules/generated/sklearn.naive_bayes.MultinomialNB.html) and print their corresponding feature names\n",
    "    </li>\n",
    "    <li>You need to summarize the results at the end of the notebook, summarize it in the table format\n",
    "        <img src='http://i.imgur.com/YVpIGGE.jpg' width=400px>\n",
    "    </li>\n",
    "</ol>"
   ]
  },
  {
   "cell_type": "markdown",
   "metadata": {
    "colab_type": "text",
    "id": "inzYCIaib3c3"
   },
   "source": [
    "<h1>2. Naive Bayes </h1>"
   ]
  },
  {
   "cell_type": "code",
   "execution_count": 32,
   "metadata": {},
   "outputs": [],
   "source": [
    "from sklearn.model_selection import train_test_split\n",
    "from sklearn.feature_extraction.text import CountVectorizer\n",
    "from sklearn.feature_extraction.text import TfidfVectorizer\n",
    "from sklearn.model_selection import RandomizedSearchCV\n",
    "from sklearn.naive_bayes import MultinomialNB\n",
    "from sklearn.preprocessing import Normalizer\n",
    "from sklearn.metrics import roc_curve\n",
    "from sklearn.metrics import auc\n",
    "from sklearn.metrics import roc_auc_score\n",
    "import numpy as np\n",
    "import pandas as pd\n",
    "import seaborn as sns\n",
    "from scipy.sparse import hstack\n",
    "from matplotlib import pyplot as plt\n",
    "from sklearn.metrics import confusion_matrix\n",
    "import math\n",
    "import warnings\n",
    "warnings.filterwarnings('ignore')"
   ]
  },
  {
   "cell_type": "markdown",
   "metadata": {
    "colab_type": "text",
    "id": "FYqCIxzFb3c5"
   },
   "source": [
    "## 1.1 Loading Data"
   ]
  },
  {
   "cell_type": "code",
   "execution_count": 33,
   "metadata": {
    "colab": {},
    "colab_type": "code",
    "id": "dA1jknyqb3c_"
   },
   "outputs": [],
   "source": [
    "\n",
    "data = pd.read_csv('preprocessed_data.csv')\n"
   ]
  },
  {
   "cell_type": "markdown",
   "metadata": {
    "colab_type": "text",
    "id": "WtVV13Fyb3dH"
   },
   "source": [
    "<h2>1.2 Splitting data into Train and cross validation(or test): Stratified Sampling</h2>"
   ]
  },
  {
   "cell_type": "code",
   "execution_count": 34,
   "metadata": {
    "colab": {},
    "colab_type": "code",
    "id": "i-PyprDNb3dI"
   },
   "outputs": [],
   "source": [
    "X = data.drop(['project_is_approved'],axis=1)\n",
    "Y = data['project_is_approved']\n",
    "X_train,X_test,y_train,y_test = train_test_split(X,Y,test_size=0.3,random_state=42)\n"
   ]
  },
  {
   "cell_type": "markdown",
   "metadata": {},
   "source": [
    "# SET 1 Bow "
   ]
  },
  {
   "cell_type": "markdown",
   "metadata": {
    "colab_type": "text",
    "id": "EnZwVNULb3dO"
   },
   "source": [
    "<h2>1.3 Make Data Model Ready: encoding eassay, and project_title</h2>"
   ]
  },
  {
   "cell_type": "code",
   "execution_count": 35,
   "metadata": {
    "colab": {},
    "colab_type": "code",
    "id": "-SczZKiab3dR"
   },
   "outputs": [
    {
     "name": "stdout",
     "output_type": "stream",
     "text": [
      "shape of train/test  (76473, 6500) (32775, 6500)\n"
     ]
    }
   ],
   "source": [
    "essay_train_data = X_train['essay']\n",
    "essay_test_data = X_test['essay']\n",
    "\n",
    "#list to store all the feature names after all encodings\n",
    "bow_feature_names = []\n",
    "\n",
    "#BOW limit to 5000 features or words\n",
    "bow_essay_vectorizer = CountVectorizer(min_df=10,max_features=6500)\n",
    "\n",
    "\n",
    "#train_data_essay BOW fit and transform\n",
    "bow_essay_vectorizer.fit(essay_train_data)\n",
    "\n",
    "#add the features into the list\n",
    "bow_feature_names.extend(bow_essay_vectorizer.get_feature_names())\n",
    "\n",
    "bow_essay_train = bow_essay_vectorizer.transform(essay_train_data)\n",
    "bow_essay_test = bow_essay_vectorizer.transform(essay_test_data)\n",
    "\n",
    "\n",
    "print('shape of train/test  {} {}'.format(bow_essay_train.shape,bow_essay_test.shape))\n"
   ]
  },
  {
   "cell_type": "markdown",
   "metadata": {
    "colab_type": "text",
    "id": "bGy86kgHb3dX"
   },
   "source": [
    "<h2>1.4 Make Data Model Ready: encoding numerical, categorical features</h2>"
   ]
  },
  {
   "cell_type": "markdown",
   "metadata": {},
   "source": [
    "# Categorical Features"
   ]
  },
  {
   "cell_type": "code",
   "execution_count": 36,
   "metadata": {
    "colab": {},
    "colab_type": "code",
    "id": "EfXkofX1b3da",
    "scrolled": true
   },
   "outputs": [],
   "source": [
    "category_vectorizer = CountVectorizer()\n",
    "#one hot encoding for clean categories feature\n",
    "category_vectorizer.fit(X_train['clean_categories'].values)\n",
    "\n",
    "#adding the names of the new features to the feature name list\n",
    "bow_feature_names.extend(category_vectorizer.get_feature_names())\n",
    "\n",
    "one_hot_category_train = category_vectorizer.transform(X_train['clean_categories'].values)\n",
    "one_hot_category_test = category_vectorizer.transform(X_test['clean_categories'].values)\n",
    "\n",
    "#one hot encoding for sub-categories feature\n",
    "category_vectorizer.fit(X_train['clean_subcategories'].values)\n",
    "\n",
    "#adding the names of the new features to the feature name list\n",
    "bow_feature_names.extend(category_vectorizer.get_feature_names())\n",
    "\n",
    "one_hot_subcategory_train = category_vectorizer.transform(X_train['clean_subcategories'].values)\n",
    "one_hot_subcategory_test = category_vectorizer.transform(X_test['clean_subcategories'].values)\n",
    "\n",
    "#one hot encoding for project grade category feature\n",
    "category_vectorizer.fit(X_train['project_grade_category'].values)\n",
    "\n",
    "#adding the names of the new features to the feature name list\n",
    "bow_feature_names.extend(category_vectorizer.get_feature_names())\n",
    "\n",
    "one_hot_pgradecategory_train = category_vectorizer.transform(X_train['project_grade_category'].values)\n",
    "one_hot_pgradecategory_test = category_vectorizer.transform(X_test['project_grade_category'].values)\n",
    "\n",
    "#one hot encoding for school_state feature\n",
    "category_vectorizer.fit(X_train['school_state'].values)\n",
    "\n",
    "#adding the names of the new features to the feature name list\n",
    "bow_feature_names.extend(category_vectorizer.get_feature_names())\n",
    "\n",
    "one_hot_school_state_train = category_vectorizer.transform(X_train['school_state'].values)\n",
    "one_hot_school_state_test = category_vectorizer.transform(X_test['school_state'].values)\n",
    "\n",
    "#one hot encoding for teacher prefix feature\n",
    "category_vectorizer.fit(X_train['teacher_prefix'].values)\n",
    "\n",
    "#adding the names of the new features to the feature name list\n",
    "bow_feature_names.extend(category_vectorizer.get_feature_names())\n",
    "\n",
    "one_hot_teacher_prefix_train = category_vectorizer.transform(X_train['teacher_prefix'].values)\n",
    "one_hot_teacher_prefix_test = category_vectorizer.transform(X_test['teacher_prefix'].values)\n"
   ]
  },
  {
   "cell_type": "markdown",
   "metadata": {},
   "source": [
    "# Numerical Features"
   ]
  },
  {
   "cell_type": "code",
   "execution_count": 37,
   "metadata": {},
   "outputs": [],
   "source": [
    "#Normalising numerical data for better featurisation among all numerical features\n",
    "\n",
    "normalise = Normalizer()\n",
    "\n",
    "normalise.fit(X_train['price'].values.reshape(-1,1))\n",
    "\n",
    "#adding the names of the new features to the feature name list\n",
    "bow_feature_names.append('price')\n",
    "\n",
    "norm_price_train = normalise.transform(X_train['price'].values.reshape(-1,1))\n",
    "norm_price_test = normalise.transform(X_test['price'].values.reshape(-1,1))\n",
    "\n",
    "normalise.fit(X_train['teacher_number_of_previously_posted_projects'].values.reshape(-1,1))\n",
    "\n",
    "#adding the names of the new features to the feature name list\n",
    "bow_feature_names.append('teacher_number_of_previously_posted_projects')\n",
    "\n",
    "norm_teacher_n_previously_posted_projects_train = normalise.transform(X_train['teacher_number_of_previously_posted_projects'].values.reshape(-1,1))\n",
    "norm_teacher_n_previously_posted_projects_test = normalise.transform(X_test['teacher_number_of_previously_posted_projects'].values.reshape(-1,1))"
   ]
  },
  {
   "cell_type": "code",
   "execution_count": 38,
   "metadata": {
    "scrolled": true
   },
   "outputs": [
    {
     "name": "stdout",
     "output_type": "stream",
     "text": [
      "Total number of features we have now is 6601\n"
     ]
    }
   ],
   "source": [
    "print('Total number of features we have now is {}'.format(len(bow_feature_names)))"
   ]
  },
  {
   "cell_type": "markdown",
   "metadata": {},
   "source": [
    "# Stacking all the features (BOW)"
   ]
  },
  {
   "cell_type": "code",
   "execution_count": 39,
   "metadata": {},
   "outputs": [
    {
     "name": "stdout",
     "output_type": "stream",
     "text": [
      "(76473, 6601) (32775, 6601)\n"
     ]
    }
   ],
   "source": [
    "#stacking all the text based and numerical features BOW\n",
    "\n",
    "X_train_bow = hstack((bow_essay_train,one_hot_category_train,one_hot_subcategory_train,one_hot_pgradecategory_train,one_hot_school_state_train,one_hot_teacher_prefix_train,norm_price_train,norm_teacher_n_previously_posted_projects_train))\n",
    "X_test_bow = hstack((bow_essay_test,one_hot_category_test,one_hot_subcategory_test,one_hot_pgradecategory_test,one_hot_school_state_test,one_hot_teacher_prefix_test,norm_price_test,norm_teacher_n_previously_posted_projects_test))\n",
    "print(X_train_bow.shape,X_test_bow.shape)"
   ]
  },
  {
   "cell_type": "markdown",
   "metadata": {},
   "source": [
    "# Set 2 TFIDF "
   ]
  },
  {
   "cell_type": "markdown",
   "metadata": {},
   "source": [
    "<h2>2.3 Make Data Model Ready: encoding eassay, and project_title</h2>"
   ]
  },
  {
   "cell_type": "code",
   "execution_count": 40,
   "metadata": {},
   "outputs": [
    {
     "name": "stdout",
     "output_type": "stream",
     "text": [
      "shape of train/test  (76473, 6500) (32775, 6500)\n"
     ]
    }
   ],
   "source": [
    "#keeping the maximum text based feature to 6500\n",
    "tfidf_essay_vectorizer = TfidfVectorizer(min_df=10,max_features=6500)\n",
    "\n",
    "\n",
    "#train_data_essay TFIDF fit and transform\n",
    "tfidf_essay_vectorizer.fit(essay_train_data)\n",
    "\n",
    "tfidf_essay_train = bow_essay_vectorizer.transform(essay_train_data)\n",
    "tfidf_essay_test = bow_essay_vectorizer.transform(essay_test_data)\n",
    "\n",
    "\n",
    "print('shape of train/test  {} {}'.format(tfidf_essay_train.shape,tfidf_essay_test.shape))"
   ]
  },
  {
   "cell_type": "markdown",
   "metadata": {},
   "source": [
    "<h2>2.4 Make Data Model Ready: encoding numerical, categorical features</h2>"
   ]
  },
  {
   "cell_type": "markdown",
   "metadata": {},
   "source": [
    "# Categorical Features"
   ]
  },
  {
   "cell_type": "code",
   "execution_count": 41,
   "metadata": {},
   "outputs": [],
   "source": [
    "category_vectorizer = TfidfVectorizer()\n",
    "#one hot encoding for clean categories feature\n",
    "category_vectorizer.fit(X_train['clean_categories'].values)\n",
    "\n",
    "one_hot_category_train = category_vectorizer.transform(X_train['clean_categories'].values)\n",
    "one_hot_category_test = category_vectorizer.transform(X_test['clean_categories'].values)\n",
    "\n",
    "#one hot encoding for sub-categories feature\n",
    "category_vectorizer.fit(X_train['clean_subcategories'].values)\n",
    "\n",
    "one_hot_subcategory_train = category_vectorizer.transform(X_train['clean_subcategories'].values)\n",
    "one_hot_subcategory_test = category_vectorizer.transform(X_test['clean_subcategories'].values)\n",
    "\n",
    "#one hot encoding for project grade category feature\n",
    "category_vectorizer.fit(X_train['project_grade_category'].values)\n",
    "\n",
    "one_hot_pgradecategory_train = category_vectorizer.transform(X_train['project_grade_category'].values)\n",
    "one_hot_pgradecategory_test = category_vectorizer.transform(X_test['project_grade_category'].values)\n",
    "\n",
    "#one hot encoding for school_state feature\n",
    "category_vectorizer.fit(X_train['school_state'].values)\n",
    "\n",
    "one_hot_school_state_train = category_vectorizer.transform(X_train['school_state'].values)\n",
    "one_hot_school_state_test = category_vectorizer.transform(X_test['school_state'].values)\n",
    "\n",
    "#one hot encoding for teacher prefix feature\n",
    "category_vectorizer.fit(X_train['teacher_prefix'].values)\n",
    "\n",
    "one_hot_teacher_prefix_train = category_vectorizer.transform(X_train['teacher_prefix'].values)\n",
    "one_hot_teacher_prefix_test = category_vectorizer.transform(X_test['teacher_prefix'].values)\n"
   ]
  },
  {
   "cell_type": "markdown",
   "metadata": {},
   "source": [
    "# Numerical Features"
   ]
  },
  {
   "cell_type": "code",
   "execution_count": 42,
   "metadata": {},
   "outputs": [],
   "source": [
    "#Normalising numerical data for better featurisation among all numerical features\n",
    "\n",
    "normalise = Normalizer()\n",
    "\n",
    "normalise.fit(X_train['price'].values.reshape(-1,1))\n",
    "\n",
    "norm_price_train = normalise.transform(X_train['price'].values.reshape(-1,1))\n",
    "norm_price_test = normalise.transform(X_test['price'].values.reshape(-1,1))\n",
    "\n",
    "normalise.fit(X_train['teacher_number_of_previously_posted_projects'].values.reshape(-1,1))\n",
    "\n",
    "norm_teacher_n_previously_posted_projects_train = normalise.transform(X_train['teacher_number_of_previously_posted_projects'].values.reshape(-1,1))\n",
    "norm_teacher_n_previously_posted_projects_test = normalise.transform(X_test['teacher_number_of_previously_posted_projects'].values.reshape(-1,1))"
   ]
  },
  {
   "cell_type": "markdown",
   "metadata": {},
   "source": [
    "# Stacking all the features (TFIDF)"
   ]
  },
  {
   "cell_type": "code",
   "execution_count": 43,
   "metadata": {},
   "outputs": [
    {
     "name": "stdout",
     "output_type": "stream",
     "text": [
      "(76473, 6601) (32775, 6601)\n"
     ]
    }
   ],
   "source": [
    "#stacking all the text based and numerical features TFIDF\n",
    "\n",
    "X_train_tfidf = hstack((tfidf_essay_train,one_hot_category_train,one_hot_subcategory_train,one_hot_pgradecategory_train,one_hot_school_state_train,one_hot_teacher_prefix_train,norm_price_train,norm_teacher_n_previously_posted_projects_train))\n",
    "X_test_tfidf = hstack((tfidf_essay_test,one_hot_category_test,one_hot_subcategory_test,one_hot_pgradecategory_test,one_hot_school_state_test,one_hot_teacher_prefix_test,norm_price_test,norm_teacher_n_previously_posted_projects_test))\n",
    "print(X_train_tfidf.shape,X_test_tfidf.shape)"
   ]
  },
  {
   "cell_type": "markdown",
   "metadata": {},
   "source": [
    "# Best Hyper-parameter using GridSearchCV"
   ]
  },
  {
   "cell_type": "code",
   "execution_count": 44,
   "metadata": {},
   "outputs": [
    {
     "name": "stdout",
     "output_type": "stream",
     "text": [
      "Best value of alpha for BOW based model : 0.001\n",
      "Best value of alpha for TFIDF based model : 0.001\n"
     ]
    }
   ],
   "source": [
    "naive = MultinomialNB(class_prior=[0.5,0.5])\n",
    "\n",
    "param = {'alpha': [0.0001,0.001,0.01,0.1,1,10,100,1000]}\n",
    "\n",
    "#for the bow based model\n",
    "NB_bow = RandomizedSearchCV(naive,param,cv=3,return_train_score=True,scoring='roc_auc')\n",
    "NB_bow.fit(X_train_bow,y_train)\n",
    "\n",
    "#for the tfidf based model\n",
    "NB_tfidf = RandomizedSearchCV(naive,param,cv=3,return_train_score=True,scoring='roc_auc')\n",
    "NB_tfidf.fit(X_train_tfidf,y_train)\n",
    "\n",
    "train_auc_1 = NB_bow.cv_results_['mean_train_score']\n",
    "cv_auc_1 = NB_bow.cv_results_['mean_test_score']\n",
    "\n",
    "train_auc_2 = NB_tfidf.cv_results_['mean_train_score']\n",
    "cv_auc_2 = NB_tfidf.cv_results_['mean_test_score']\n",
    "\n",
    "print('Best value of alpha for BOW based model : {}'.format(NB_bow.best_params_['alpha']))\n",
    "\n",
    "print('Best value of alpha for TFIDF based model : {}'.format(NB_tfidf.best_params_['alpha']))"
   ]
  },
  {
   "cell_type": "markdown",
   "metadata": {},
   "source": [
    "**BOW AUC score vs Hyperparameter**"
   ]
  },
  {
   "cell_type": "code",
   "execution_count": 45,
   "metadata": {},
   "outputs": [
    {
     "data": {
      "image/png": "[encoded data removed]",
      "text/plain": [
       "<Figure size 432x288 with 1 Axes>"
      ]
     },
     "metadata": {
      "needs_background": "light"
     },
     "output_type": "display_data"
    }
   ],
   "source": [
    "log_alpha = []\n",
    "for alpha in param['alpha']:\n",
    "    log_alpha.append(math.log(alpha))\n",
    "\n",
    "#taking log on alpha value to plot them for better readability\n",
    "plt.plot(log_alpha,train_auc_1,color='red')\n",
    "plt.plot(log_alpha,cv_auc_1,color='blue')\n",
    "plt.xlabel('log-Hyperparameter(Alpha)')\n",
    "plt.ylabel('AUC score')\n",
    "plt.title('Train and CV AUC score')\n",
    "plt.show()"
   ]
  },
  {
   "cell_type": "markdown",
   "metadata": {},
   "source": [
    "**TFIDF AUC score vs Hyperparameter**"
   ]
  },
  {
   "cell_type": "code",
   "execution_count": 46,
   "metadata": {
    "scrolled": true
   },
   "outputs": [
    {
     "data": {
      "image/png": "[encoded data removed]",
      "text/plain": [
       "<Figure size 432x288 with 1 Axes>"
      ]
     },
     "metadata": {
      "needs_background": "light"
     },
     "output_type": "display_data"
    }
   ],
   "source": [
    "plt.plot(log_alpha,train_auc_2,color='red')\n",
    "plt.plot(log_alpha,cv_auc_2,color='blue')\n",
    "plt.xlabel('log-Hyperparameter(Alpha)')\n",
    "plt.ylabel('AUC score')\n",
    "plt.title('Train and CV AUC score')\n",
    "plt.show()"
   ]
  },
  {
   "cell_type": "markdown",
   "metadata": {},
   "source": [
    "# Observations\n",
    "\n",
    "1. The best aplha value for both the BOW and TFIDF based model are the same i.e 0.001\n",
    "\n",
    "\n",
    "2. AUC score vs hyperparameter plot is almost the same both the set of model\n",
    "\n",
    "\n",
    "3. There are total 6601 features after all the encoding, including 6500 essay text features"
   ]
  },
  {
   "cell_type": "markdown",
   "metadata": {
    "colab_type": "text",
    "id": "yYHPYadYb3dh"
   },
   "source": [
    "<h2>1.5 Appling NB on different kind of featurization as mentioned in the instructions</h2>\n",
    "\n",
    "<br>Apply NB on different kind of featurization as mentioned in the instructions\n",
    "<br> For Every model that you work on make sure you do the step 2 and step 3 of instrucations"
   ]
  },
  {
   "cell_type": "markdown",
   "metadata": {},
   "source": [
    "# ROC curve (BOW)"
   ]
  },
  {
   "cell_type": "code",
   "execution_count": 47,
   "metadata": {
    "colab": {},
    "colab_type": "code",
    "id": "DNwqilFxb3di",
    "scrolled": false
   },
   "outputs": [
    {
     "data": {
      "image/png": "[encoded data removed]",
      "text/plain": [
       "<Figure size 432x288 with 1 Axes>"
      ]
     },
     "metadata": {
      "needs_background": "light"
     },
     "output_type": "display_data"
    },
    {
     "name": "stdout",
     "output_type": "stream",
     "text": [
      "Best AUC for the model is 0.70022 \n"
     ]
    }
   ],
   "source": [
    "\n",
    "clf = MultinomialNB(alpha=0.001,class_prior=[0.5,0.5])\n",
    "clf.fit(X_train_bow,y_train)\n",
    "\n",
    "y_pred_train = clf.predict_proba(X_train_bow)\n",
    "y_pred_test = clf.predict_proba(X_test_bow)\n",
    "\n",
    "#taking the probabilit scores instead of the predicted label\n",
    "#predict_proba returns probabilty scores which is in the 2nd column thus taking the second column\n",
    "fpr_train,tpr_train,threshold_train = roc_curve(y_train,y_pred_train[:,1])\n",
    "fpr_test,tpr_test,threshold_test = roc_curve(y_test,y_pred_test[:,1])\n",
    "\n",
    "train_auc = round(auc(fpr_train,tpr_train),5)\n",
    "test_auc = round(auc(fpr_test,tpr_test),5)\n",
    "\n",
    "plt.plot(fpr_train,tpr_train,color='red',label='train-auc = '+str(train_auc))\n",
    "plt.plot(fpr_test,tpr_test,color='blue',label='test-auc = '+str(test_auc))\n",
    "plt.plot(np.array([0,1]),np.array([0,1]),color='black',label='random model auc = '+str(0.5))\n",
    "plt.xlabel('False Positive Rate(FPR)')\n",
    "plt.ylabel('True Positive Rate(TPR)')\n",
    "plt.title('ROC curve')\n",
    "plt.legend()\n",
    "plt.show()\n",
    "print('Best AUC for the model is {} '.format(test_auc))"
   ]
  },
  {
   "cell_type": "markdown",
   "metadata": {},
   "source": [
    "# Confusion Matrix"
   ]
  },
  {
   "cell_type": "code",
   "execution_count": 48,
   "metadata": {},
   "outputs": [],
   "source": [
    "#custom predict function\n",
    "def predict(proba, threshould, fpr, tpr):\n",
    "    \n",
    "    t = threshould[np.argmax(fpr*(1-tpr))]\n",
    "    \n",
    "    # (tpr*(1-fpr)) will be maximum if your fpr is very low and tpr is very high\n",
    "    \n",
    "    print(\"the maximum value of tpr*(1-fpr)\", max(tpr*(1-fpr)), \"for threshold\", np.round(t,3))\n",
    "    predictions = []\n",
    "    for i in proba:\n",
    "        if i>=t:\n",
    "            predictions.append(1)\n",
    "        else:\n",
    "            predictions.append(0)\n",
    "    return predictions"
   ]
  },
  {
   "cell_type": "markdown",
   "metadata": {},
   "source": [
    "# Confusion Matrix (BOW)"
   ]
  },
  {
   "cell_type": "code",
   "execution_count": 49,
   "metadata": {
    "scrolled": true
   },
   "outputs": [
    {
     "name": "stdout",
     "output_type": "stream",
     "text": [
      "the maximum value of tpr*(1-fpr) 0.42597458856067516 for threshold 0.654\n"
     ]
    },
    {
     "data": {
      "image/png": "[encoded data removed]",
      "text/plain": [
       "<Figure size 432x288 with 2 Axes>"
      ]
     },
     "metadata": {
      "needs_background": "light"
     },
     "output_type": "display_data"
    }
   ],
   "source": [
    "confusion_matrix_test = pd.DataFrame(confusion_matrix(y_test,predict(y_pred_test[:,1],threshold_test,fpr_test,tpr_test)))\n",
    "sns.heatmap(confusion_matrix_test,annot=True,annot_kws={\"size\": 16}, fmt='g')\n",
    "plt.title('Confusion Matrix')\n",
    "plt.show()"
   ]
  },
  {
   "cell_type": "markdown",
   "metadata": {},
   "source": [
    "# ROC curve (TFIDF)"
   ]
  },
  {
   "cell_type": "code",
   "execution_count": 55,
   "metadata": {
    "scrolled": false
   },
   "outputs": [
    {
     "data": {
      "image/png": "[encoded data removed]",
      "text/plain": [
       "<Figure size 432x288 with 1 Axes>"
      ]
     },
     "metadata": {
      "needs_background": "light"
     },
     "output_type": "display_data"
    },
    {
     "name": "stdout",
     "output_type": "stream",
     "text": [
      "Best AUC for the model is 0.70018 \n"
     ]
    }
   ],
   "source": [
    "\n",
    "clf = MultinomialNB(alpha=0.001,class_prior=[0.5,0.5])\n",
    "clf.fit(X_train_tfidf,y_train)\n",
    "\n",
    "y_pred_train = clf.predict_proba(X_train_tfidf)\n",
    "y_pred_test = clf.predict_proba(X_test_tfidf)\n",
    "\n",
    "#taking the probabilit scores instead of the predicted label\n",
    "#predict_proba returns probabilty scores which is in the 2nd column thus taking the second column\n",
    "fpr_train,tpr_train,threshold_train = roc_curve(y_train,y_pred_train[:,1])\n",
    "fpr_test,tpr_test,threshold_test = roc_curve(y_test,y_pred_test[:,1])\n",
    "\n",
    "train_auc = round(auc(fpr_train,tpr_train),5)\n",
    "test_auc = round(auc(fpr_test,tpr_test),5)\n",
    "\n",
    "plt.plot(fpr_train,tpr_train,color='red',label='train-auc = '+str(train_auc))\n",
    "plt.plot(fpr_test,tpr_test,color='blue',label='test-auc = '+str(test_auc))\n",
    "plt.plot(np.array([0,1]),np.array([0,1]),color='black',label='random model auc = '+str(0.5))\n",
    "plt.xlabel('False Positive Rate(FPR)')\n",
    "plt.ylabel('True Positive Rate(TPR)')\n",
    "plt.title('ROC curve')\n",
    "plt.legend()\n",
    "plt.show()\n",
    "print('Best AUC for the model is {} '.format(test_auc))"
   ]
  },
  {
   "cell_type": "markdown",
   "metadata": {},
   "source": [
    "# Confusion Matrix (TFIDF)"
   ]
  },
  {
   "cell_type": "code",
   "execution_count": 59,
   "metadata": {
    "scrolled": true
   },
   "outputs": [
    {
     "name": "stdout",
     "output_type": "stream",
     "text": [
      "the maximum value of tpr*(1-fpr) 0.4264094683821638 for threshold 0.641\n"
     ]
    },
    {
     "data": {
      "image/png": "[encoded data removed]",
      "text/plain": [
       "<Figure size 432x288 with 2 Axes>"
      ]
     },
     "metadata": {
      "needs_background": "light"
     },
     "output_type": "display_data"
    }
   ],
   "source": [
    "confusion_matrix_test = pd.DataFrame(confusion_matrix(y_test,predict(y_pred_test[:,1],threshold_test,fpr_test,tpr_test)))\n",
    "sns.heatmap(confusion_matrix_test,annot=True,annot_kws={\"size\": 16}, fmt='g')\n",
    "plt.title('Confusion Matrix')\n",
    "plt.show()"
   ]
  },
  {
   "cell_type": "markdown",
   "metadata": {},
   "source": [
    "# Observations\n",
    "\n",
    "1. Best AUC score, the ROC_AUC curve and the confusion matrix is almost the same in both set of models"
   ]
  },
  {
   "cell_type": "markdown",
   "metadata": {},
   "source": [
    "# Top 20 features (Positive Class)"
   ]
  },
  {
   "cell_type": "code",
   "execution_count": 52,
   "metadata": {
    "scrolled": true
   },
   "outputs": [
    {
     "name": "stdout",
     "output_type": "stream",
     "text": [
      "['students', 'school', 'my', 'learning', 'classroom', 'the', 'not', 'they', 'learn', 'help', 'price', 'many', 'nannan', 'we', 'need', 'reading', 'work', 'use', 'teacher_number_of_previously_posted_projects', 'love']\n"
     ]
    }
   ],
   "source": [
    "_sorted = clf.feature_log_prob_[1, :].argsort()[::-1]\n",
    "#getting indices of the top 20 features according to their feature log probability score\n",
    "feature_index = [i for i in _sorted[:20]]\n",
    "top_20_feature_bow = [bow_feature_names[i] for i in feature_index]\n",
    "print(top_20_feature_bow)"
   ]
  },
  {
   "cell_type": "markdown",
   "metadata": {},
   "source": [
    "# Top 20 features (Negetive Class)"
   ]
  },
  {
   "cell_type": "code",
   "execution_count": 53,
   "metadata": {},
   "outputs": [
    {
     "name": "stdout",
     "output_type": "stream",
     "text": [
      "['students', 'school', 'learning', 'my', 'classroom', 'learn', 'not', 'they', 'help', 'the', 'price', 'nannan', 'many', 'we', 'need', 'work', 'come', 'teacher_number_of_previously_posted_projects', 'love', 'reading']\n"
     ]
    }
   ],
   "source": [
    "_sorted = clf.feature_log_prob_[0, :].argsort()[::-1]\n",
    "#getting indices of the top 20 features according to their feature log probability score\n",
    "feature_index = [i for i in _sorted[:20]]\n",
    "top_20_feature_bow = [bow_feature_names[i] for i in feature_index]\n",
    "print(top_20_feature_bow)"
   ]
  },
  {
   "cell_type": "markdown",
   "metadata": {
    "colab_type": "text",
    "id": "lS9hIHdib3dp"
   },
   "source": [
    "<h1>3. Summary</h1>\n",
    "\n",
    "<br> as mentioned in the step 5 of instructions"
   ]
  },
  {
   "cell_type": "code",
   "execution_count": 54,
   "metadata": {},
   "outputs": [
    {
     "name": "stdout",
     "output_type": "stream",
     "text": [
      "+------------+-------------+-----------------------+-----------+\n",
      "| Vectorizer |    Model    | Alpha:Hyper Parameter |  Test AUC |\n",
      "+------------+-------------+-----------------------+-----------+\n",
      "|    BOW     | Naive Bayes |         0.001         |  0.70022  |\n",
      "|   TFIDF    | Naive Bayes |         0.001         |  0.70018  |\n",
      "+------------+-------------+-----------------------+-----------+\n"
     ]
    }
   ],
   "source": [
    "from prettytable import PrettyTable\n",
    "\n",
    "table = PrettyTable()\n",
    "table.field_names = [\"Vectorizer\", \"Model\", \"Alpha:Hyper Parameter\", \" Test AUC\"]\n",
    "\n",
    "table.add_row([\"BOW\", \"Naive Bayes\", 0.001, 0.70022])\n",
    "table.add_row([\"TFIDF\", \"Naive Bayes\", 0.001, 0.70018])\n",
    "\n",
    "print(table)"
   ]
  }
 ],
 "metadata": {
  "colab": {
   "collapsed_sections": [],
   "name": "6_Assignment_NB_Instructions.ipynb",
   "provenance": [],
   "version": "0.3.2"
  },
  "kernelspec": {
   "display_name": "Python 3",
   "language": "python",
   "name": "python3"
  },
  "language_info": {
   "codemirror_mode": {
    "name": "ipython",
    "version": 3
   },
   "file_extension": ".py",
   "mimetype": "text/x-python",
   "name": "python",
   "nbconvert_exporter": "python",
   "pygments_lexer": "ipython3",
   "version": "3.7.6"
  }
 },
 "nbformat": 4,
 "nbformat_minor": 1
}
