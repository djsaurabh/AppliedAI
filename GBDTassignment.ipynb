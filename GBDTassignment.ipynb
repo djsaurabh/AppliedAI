{
 "cells": [
  {
   "cell_type": "markdown",
   "metadata": {
    "colab_type": "text",
    "id": "8wqapAXjsc24"
   },
   "source": [
    "# Assignment 9: GBDT"
   ]
  },
  {
   "cell_type": "markdown",
   "metadata": {
    "colab_type": "text",
    "id": "8u5NhbnEsc2-"
   },
   "source": [
    "#### Response Coding: Example"
   ]
  },
  {
   "cell_type": "markdown",
   "metadata": {
    "colab_type": "text",
    "id": "HIFWmwHKsc3A"
   },
   "source": [
    "<img src='http://i.imgur.com/TufZptV.jpg' width=700px>\n",
    "\n",
    "> The response tabel is built only on train dataset.\n",
    "> For a category which is not there in train data and present in test data, we will encode them with default values\n",
    "Ex: in our test data if have State: D then we encode it as [0.5, 0.05]"
   ]
  },
  {
   "cell_type": "markdown",
   "metadata": {
    "colab_type": "text",
    "id": "3KwfGufDsc3D"
   },
   "source": [
    "<ol>\n",
    "    <li><strong>Apply GBDT on these feature sets</strong>\n",
    "        <ul>\n",
    "            <li><font color='red'>Set 1</font>: categorical(instead of one hot encoding, try <a href='https://www.appliedaicourse.com/course/applied-ai-course-online/lessons/handling-categorical-and-numerical-features/'>response coding</a>: use probability values), numerical features + project_title(TFIDF)+  preprocessed_eassay (TFIDF)+sentiment Score of eassay(check the bellow example, include all 4 values as 4 features)</li>\n",
    "            <li><font color='red'>Set 2</font>: categorical(instead of one hot encoding, try <a href='https://www.appliedaicourse.com/course/applied-ai-course-online/lessons/handling-categorical-and-numerical-features/'>response coding</a>: use probability values), numerical features + project_title(TFIDF W2V)+  preprocessed_eassay (TFIDF W2V)</li>        </ul>\n",
    "    </li>\n",
    "    <li><strong>The hyper paramter tuning (Consider any two hyper parameters)</strong>\n",
    "        <ul>\n",
    "    <li>Find the best hyper parameter which will give the maximum <a href='https://www.appliedaicourse.com/course/applied-ai-course-online/lessons/receiver-operating-characteristic-curve-roc-curve-and-auc-1/'>AUC</a> value</li>\n",
    "    <li>find the best hyper paramter using k-fold cross validation/simple cross validation data</li>\n",
    "    <li>use gridsearch cv or randomsearch cv or you can write your own for loops to do this task</li>\n",
    "        </ul>\n",
    "    </li>\n",
    "    <li>\n",
    "    <strong>Representation of results</strong>\n",
    "        <ul>\n",
    "    <li>You need to plot the performance of model both on train data and cross validation data for each hyper parameter, like shown in the figure\n",
    "    <img src='https://i.imgur.com/Gp2DQmh.jpg' width=500px> with X-axis as <strong>n_estimators</strong>, Y-axis as <strong>max_depth</strong>, and Z-axis as <strong>AUC Score</strong> , we have given the notebook which explains how to plot this 3d plot, you can find it in the same drive <i>3d_scatter_plot.ipynb</i></li>\n",
    "            <p style=\"text-align:center;font-size:30px;color:red;\"><strong>or</strong></p> <br>\n",
    "    <li>You need to plot the performance of model both on train data and cross validation data for each hyper parameter, like shown in the figure\n",
    "    <img src='https://i.imgur.com/fgN9aUP.jpg' width=300px> <a href='https://seaborn.pydata.org/generated/seaborn.heatmap.html'>seaborn heat maps</a> with rows as <strong>n_estimators</strong>, columns as <strong>max_depth</strong>, and values inside the cell representing <strong>AUC Score</strong> </li>\n",
    "    <li>You choose either of the plotting techniques out of 3d plot or heat map</li>\n",
    "    <li>Once after you found the best hyper parameter, you need to train your model with it, and find the AUC on test data and plot the ROC curve on both train and test.\n",
    "    <img src='https://i.imgur.com/wMQDTFe.jpg' width=300px></li>\n",
    "    <li>Along with plotting ROC curve, you need to print the <a href='https://www.appliedaicourse.com/course/applied-ai-course-online/lessons/confusion-matrix-tpr-fpr-fnr-tnr-1/'>confusion matrix</a> with predicted and original labels of test data points\n",
    "    <img src='https://i.imgur.com/IdN5Ctv.png' width=300px></li>\n",
    "            </ul>\n",
    "    <br>\n",
    "    <li>You need to summarize the results at the end of the notebook, summarize it in the table format\n",
    "        <img src='http://i.imgur.com/YVpIGGE.jpg' width=400px>\n",
    "    </li>\n",
    "</ol>"
   ]
  },
  {
   "cell_type": "code",
   "execution_count": 54,
   "metadata": {
    "colab": {},
    "colab_type": "code",
    "id": "iffa2_WGsc3H",
    "outputId": "151fc2d5-3bc1-4206-9bd2-000dbf662b31"
   },
   "outputs": [
    {
     "name": "stderr",
     "output_type": "stream",
     "text": [
      "[nltk_data] Downloading package vader_lexicon to\n",
      "[nltk_data]     /home/saurav/nltk_data...\n",
      "[nltk_data]   Package vader_lexicon is already up-to-date!\n"
     ]
    }
   ],
   "source": [
    "import nltk\n",
    "from nltk.sentiment.vader import SentimentIntensityAnalyzer\n",
    "\n",
    "%matplotlib inline\n",
    "import warnings\n",
    "warnings.filterwarnings(\"ignore\")\n",
    "\n",
    "import pandas as pd\n",
    "import numpy as np\n",
    "import matplotlib.pyplot as plt\n",
    "import seaborn as sns\n",
    "from sklearn.model_selection import train_test_split\n",
    "\n",
    "from sklearn.feature_extraction.text import TfidfVectorizer\n",
    "from sklearn.preprocessing import Normalizer\n",
    "from sklearn.metrics import confusion_matrix\n",
    "from sklearn import metrics\n",
    "from sklearn.metrics import roc_curve, auc\n",
    "from sklearn.tree import DecisionTreeClassifier\n",
    "from sklearn.model_selection import RandomizedSearchCV\n",
    "from sklearn.model_selection import GridSearchCV\n",
    "from scipy.sparse import hstack,csr_matrix\n",
    "from sklearn.metrics import roc_auc_score,auc\n",
    "from sklearn.ensemble import GradientBoostingClassifier\n",
    "\n",
    "import pickle\n",
    "\n",
    "from tqdm import tqdm\n",
    "import os\n",
    "from chart_studio import plotly\n",
    "import plotly.offline as offline\n",
    "import plotly.graph_objs as go\n",
    "\n",
    "from collections import Counter\n",
    "\n",
    "\n",
    "nltk.download('vader_lexicon')\n",
    "\n",
    "sid = SentimentIntensityAnalyzer()\n",
    "\n",
    "for_sentiment = 'a person is a person no matter how small dr seuss i teach the smallest students with the biggest enthusiasm \\\n",
    "for learning my students learn in many different ways using all of our senses and multiple intelligences i use a wide range\\\n",
    "of techniques to help all my students succeed students in my class come from a variety of different backgrounds which makes\\\n",
    "for wonderful sharing of experiences and cultures including native americans our school is a caring community of successful \\\n",
    "learners which can be seen through collaborative student project based learning in and out of the classroom kindergarteners \\\n",
    "in my class love to work with hands on materials and have many different opportunities to practice a skill before it is\\\n",
    "mastered having the social skills to work cooperatively with friends is a crucial aspect of the kindergarten curriculum\\\n",
    "montana is the perfect place to learn about agriculture and nutrition my students love to role play in our pretend kitchen\\\n",
    "in the early childhood classroom i have had several kids ask me can we try cooking with real food i will take their idea \\\n",
    "and create common core cooking lessons where we learn important math and writing concepts while cooking delicious healthy \\\n",
    "food for snack time my students will have a grounded appreciation for the work that went into making the food and knowledge \\\n",
    "of where the ingredients came from as well as how it is healthy for their bodies this project would expand our learning of \\\n",
    "nutrition and agricultural cooking recipes by having us peel our own apples to make homemade applesauce make our own bread \\\n",
    "and mix up healthy plants from our classroom garden in the spring we will also create our own cookbooks to be printed and \\\n",
    "shared with families students will gain math and literature skills as well as a life long enjoyment for healthy cooking \\\n",
    "nannan'\n",
    "ss = sid.polarity_scores(for_sentiment)\n",
    "\n",
    "\n",
    "# we can use these 4 things as features/attributes (neg, neu, pos, compound)\n",
    "# neg: 0.0, neu: 0.753, pos: 0.247, compound: 0.93"
   ]
  },
  {
   "cell_type": "markdown",
   "metadata": {
    "colab_type": "text",
    "id": "BOyTl7oKsc3W"
   },
   "source": [
    "<h1>1. GBDT (xgboost/lightgbm) </h1>"
   ]
  },
  {
   "cell_type": "markdown",
   "metadata": {
    "colab_type": "text",
    "id": "VWge-b2Zsc3Z"
   },
   "source": [
    "## 1.1 Loading Data"
   ]
  },
  {
   "cell_type": "code",
   "execution_count": 55,
   "metadata": {
    "colab": {},
    "colab_type": "code",
    "id": "WDZFu6-usc3d"
   },
   "outputs": [],
   "source": [
    "import pandas\n",
    "data = pandas.read_csv('preprocessed_data.csv',nrows=50000)"
   ]
  },
  {
   "cell_type": "markdown",
   "metadata": {
    "colab_type": "text",
    "id": "6lAMFKFcsc3j"
   },
   "source": [
    "<h2>1.2 Splitting data into Train and cross validation(or test): Stratified Sampling</h2>"
   ]
  },
  {
   "cell_type": "code",
   "execution_count": 56,
   "metadata": {
    "colab": {},
    "colab_type": "code",
    "id": "ODMijuuNsc3l"
   },
   "outputs": [],
   "source": [
    "X = data\n",
    "Y = data['project_is_approved']\n",
    "X_train,X_test,y_train,y_test = train_test_split(X,Y,test_size=0.3,stratify=Y,random_state=42)\n"
   ]
  },
  {
   "cell_type": "markdown",
   "metadata": {
    "colab_type": "text",
    "id": "vsALgl5Asc3u"
   },
   "source": [
    "<h2>1.3 Make Data Model Ready: encoding eassay, and project_title</h2>"
   ]
  },
  {
   "cell_type": "code",
   "execution_count": 57,
   "metadata": {
    "colab": {},
    "colab_type": "code",
    "id": "1A_85jbWsc3v"
   },
   "outputs": [],
   "source": [
    "essay_train_data = X_train['essay']\n",
    "essay_test_data = X_test['essay']"
   ]
  },
  {
   "cell_type": "markdown",
   "metadata": {},
   "source": [
    "# TFIDF"
   ]
  },
  {
   "cell_type": "code",
   "execution_count": 58,
   "metadata": {
    "scrolled": false
   },
   "outputs": [
    {
     "name": "stdout",
     "output_type": "stream",
     "text": [
      "shape of train/test  (35000, 6500) (15000, 6500)\n"
     ]
    }
   ],
   "source": [
    "#keeping the maximum text based feature to 6500\n",
    "tfidf_essay_vectorizer = TfidfVectorizer(min_df=10,max_features=6500)\n",
    "\n",
    "\n",
    "#train_data_essay TFIDF fit and transform\n",
    "tfidf_essay_vectorizer.fit(essay_train_data)\n",
    "\n",
    "tfidf_essay_train = tfidf_essay_vectorizer.transform(essay_train_data)\n",
    "tfidf_essay_test = tfidf_essay_vectorizer.transform(essay_test_data)\n",
    "\n",
    "print('shape of train/test  {} {}'.format(tfidf_essay_train.shape,tfidf_essay_test.shape))"
   ]
  },
  {
   "cell_type": "markdown",
   "metadata": {},
   "source": [
    "# TFIDF W2V"
   ]
  },
  {
   "cell_type": "code",
   "execution_count": 59,
   "metadata": {},
   "outputs": [],
   "source": [
    "# Reading glove vectors in python: https://stackoverflow.com/a/38230349/4084039\n",
    "\n",
    "def loadGloveModel(gloveFile):\n",
    "    \n",
    "    print (\"Loading Glove Model\")\n",
    "    \n",
    "    f = open(gloveFile,'r', encoding = 'utf8')\n",
    "    \n",
    "    model = {}\n",
    "    \n",
    "    for line in tqdm(f):\n",
    "        splitLine = line.split()\n",
    "        word = splitLine[0]\n",
    "        embedding = np.array([float(val) for val in splitLine[1:]])\n",
    "        model[word] = embedding\n",
    "    \n",
    "    print (\"Done.\",len(model),\" words loaded!\")\n",
    "    \n",
    "    return model"
   ]
  },
  {
   "cell_type": "code",
   "execution_count": 60,
   "metadata": {},
   "outputs": [],
   "source": [
    "with open('glove_vectors', 'rb') as f:\n",
    "    model = pickle.load(f)\n",
    "    glove_words =  set(model.keys())"
   ]
  },
  {
   "cell_type": "code",
   "execution_count": 61,
   "metadata": {},
   "outputs": [],
   "source": [
    "# TF-IDF weighted Word2Vec\n",
    "def Tfidf_w2v(preprocessed_essays):\n",
    "    tfidf_model = TfidfVectorizer()\n",
    "    tfidf_model.fit(preprocessed_essays)\n",
    "    # we are converting a dictionary with word as a key, and the idf as a value\n",
    "    dictionary = dict(zip(tfidf_model.get_feature_names(), list(tfidf_model.idf_)))\n",
    "    tfidf_words = set(tfidf_model.get_feature_names())\n",
    "    tfidf_w2v_vectors = [] # the avg-w2v for each sentence/review is stored in this list\n",
    "    for sentence in preprocessed_essays: # for each review/sentence\n",
    "        vector = np.zeros(300) # as word vectors are of zero length\n",
    "        tf_idf_weight =0; # num of words with a valid vector in the sentence/review\n",
    "        for word in sentence.split(): # for each word in a review/sentence\n",
    "            if (word in glove_words) and (word in tfidf_words):\n",
    "                vec = model[word] # getting the vector for each word\n",
    "                # here we are multiplying idf value(dictionary[word]) and the tf value((sentence.count(word)/len(sentence.split())))\n",
    "                tf_idf = dictionary[word]*(sentence.count(word)/len(sentence.split())) # getting the tfidf value for each word\n",
    "                vector += (vec * tf_idf) # calculating tfidf weighted w2v\n",
    "                tf_idf_weight += tf_idf\n",
    "        if tf_idf_weight != 0:\n",
    "            vector /= tf_idf_weight\n",
    "        tfidf_w2v_vectors.append(vector)\n",
    "    return np.array(tfidf_w2v_vectors)\n"
   ]
  },
  {
   "cell_type": "code",
   "execution_count": 62,
   "metadata": {},
   "outputs": [],
   "source": [
    "tfidfw2v_essay_train = Tfidf_w2v(essay_train_data)\n",
    "tfidfw2v_essay_test = Tfidf_w2v(essay_test_data)\n"
   ]
  },
  {
   "cell_type": "code",
   "execution_count": 63,
   "metadata": {},
   "outputs": [],
   "source": [
    "tfidfw2v_essay_train = csr_matrix(tfidfw2v_essay_train)\n",
    "tfidfw2v_essay_test = csr_matrix(tfidfw2v_essay_test)"
   ]
  },
  {
   "cell_type": "markdown",
   "metadata": {},
   "source": [
    "# Sentiment Analysis(Essay)"
   ]
  },
  {
   "cell_type": "code",
   "execution_count": 64,
   "metadata": {},
   "outputs": [],
   "source": [
    "#sentiment score features for train data\n",
    "sent_pos_train = []\n",
    "sent_neg_train = []\n",
    "sent_neu_train = []\n",
    "sent_compound_train = []\n",
    "for essay in essay_train_data:\n",
    "    s_score = sid.polarity_scores(essay)\n",
    "    sent_neg_train.append(s_score['neg'])\n",
    "    sent_neu_train.append(s_score['neu'])\n",
    "    sent_pos_train.append(s_score['pos'])\n",
    "    sent_compound_train.append(s_score['compound'])"
   ]
  },
  {
   "cell_type": "code",
   "execution_count": 65,
   "metadata": {},
   "outputs": [],
   "source": [
    "#sentiment score features for test data\n",
    "sent_pos_test = []\n",
    "sent_neg_test = []\n",
    "sent_neu_test = []\n",
    "sent_compound_test = []\n",
    "for essay in essay_test_data:\n",
    "    s_score = sid.polarity_scores(essay)\n",
    "    sent_neg_test.append(s_score['neg'])\n",
    "    sent_neu_test.append(s_score['neu'])\n",
    "    sent_pos_test.append(s_score['pos'])\n",
    "    sent_compound_test.append(s_score['compound'])"
   ]
  },
  {
   "cell_type": "code",
   "execution_count": 66,
   "metadata": {},
   "outputs": [
    {
     "data": {
      "text/plain": [
       "(35000, 1)"
      ]
     },
     "execution_count": 66,
     "metadata": {},
     "output_type": "execute_result"
    }
   ],
   "source": [
    "#converting train sentiment scores into numpy array\n",
    "sent_pos_train = np.array(sent_pos_train).reshape(-1,1)\n",
    "sent_neg_train = np.array(sent_neg_train).reshape(-1,1)\n",
    "sent_neu_train = np.array(sent_neu_train).reshape(-1,1)\n",
    "sent_compound_train = np.array(sent_compound_train).reshape(-1,1)\n",
    "sent_pos_train.shape"
   ]
  },
  {
   "cell_type": "code",
   "execution_count": 67,
   "metadata": {},
   "outputs": [
    {
     "data": {
      "text/plain": [
       "(15000, 1)"
      ]
     },
     "execution_count": 67,
     "metadata": {},
     "output_type": "execute_result"
    }
   ],
   "source": [
    "#converting test sentiment scores into numpy array\n",
    "sent_pos_test = np.array(sent_pos_test).reshape(-1,1)\n",
    "sent_neg_test = np.array(sent_neg_test).reshape(-1,1)\n",
    "sent_neu_test = np.array(sent_neu_test).reshape(-1,1)\n",
    "sent_compound_test = np.array(sent_compound_test).reshape(-1,1)\n",
    "sent_pos_test.shape"
   ]
  },
  {
   "cell_type": "markdown",
   "metadata": {
    "colab_type": "text",
    "id": "S3Vxxv2Hsc31"
   },
   "source": [
    "<h2>1.4 Make Data Model Ready: encoding numerical, categorical features</h2>"
   ]
  },
  {
   "cell_type": "markdown",
   "metadata": {},
   "source": [
    "# Numerical Data"
   ]
  },
  {
   "cell_type": "code",
   "execution_count": 68,
   "metadata": {},
   "outputs": [
    {
     "name": "stdout",
     "output_type": "stream",
     "text": [
      "(35000, 1)\n"
     ]
    }
   ],
   "source": [
    "#Normalising numerical data for better featurisation among all numerical features\n",
    "\n",
    "normalise = Normalizer()\n",
    "\n",
    "normalise.fit(X_train['price'].values.reshape(-1,1))\n",
    "\n",
    "norm_price_train = normalise.transform(X_train['price'].values.reshape(-1,1)).reshape(-1,1)\n",
    "norm_price_test = normalise.transform(X_test['price'].values.reshape(-1,1))\n",
    "print(norm_price_train.shape)\n",
    "\n",
    "normalise.fit(X_train['teacher_number_of_previously_posted_projects'].values.reshape(-1,1))\n",
    "\n",
    "norm_teacher_n_previously_posted_projects_train = normalise.transform(X_train['teacher_number_of_previously_posted_projects'].values.reshape(-1,1))\n",
    "norm_teacher_n_previously_posted_projects_test = normalise.transform(X_test['teacher_number_of_previously_posted_projects'].values.reshape(-1,1))"
   ]
  },
  {
   "cell_type": "markdown",
   "metadata": {},
   "source": [
    "# Categorical Data"
   ]
  },
  {
   "cell_type": "markdown",
   "metadata": {},
   "source": [
    "**NOTE**\n",
    "\n",
    "1. All the categorical data are response coded.\n"
   ]
  },
  {
   "cell_type": "code",
   "execution_count": 69,
   "metadata": {
    "colab": {},
    "colab_type": "code",
    "id": "RAtihVPqsc33"
   },
   "outputs": [],
   "source": [
    "#this function generates the probability of being each of the classes i.e response code\n",
    "def prob_value(feature_name):\n",
    "    #getting total number of unique category and number of times they appear\n",
    "    total_unique = X_train[ feature_name ].value_counts()\n",
    "    #standard value of alpha for laplace transform\n",
    "    alpha = 1\n",
    "    item_score = dict()\n",
    "    for cat,tot_count in total_unique.items():\n",
    "            #count number of times an item is present in the feature column when the ouput is 1 or 0\n",
    "            class_zero = X_train.loc[(X_train['project_is_approved'] == 0) & (X_train[ feature_name ] == cat)].shape[0]\n",
    "            class_one = X_train.loc[(X_train['project_is_approved'] == 1) & (X_train[ feature_name ] == cat)].shape[0]\n",
    "            \n",
    "            #adding laplace smoothing with alpha\n",
    "            prob_0 = float(class_zero + alpha*10) / (tot_count + 90*alpha)\n",
    "            prob_1 = float(class_one + alpha*10) / (tot_count + 90*alpha)\n",
    "            item_score[cat] = [prob_0,prob_1]\n",
    "    return item_score\n",
    "\n",
    "\n",
    "def response_code(feature_name,data):\n",
    "    prob_score = prob_value(feature_name)\n",
    "    feature_score = []\n",
    "    for row in data[feature_name].values:\n",
    "        #if the item was seen in the train data then use the scores calculated\n",
    "        if row in prob_score.keys():\n",
    "            feature_score.append(prob_score[row])\n",
    "        #otherwise use the default probability i.e both have equal probability\n",
    "        else:\n",
    "            feature_score.append([0.5,0.5])\n",
    "    return feature_score"
   ]
  },
  {
   "cell_type": "code",
   "execution_count": 70,
   "metadata": {},
   "outputs": [],
   "source": [
    "#getting response_code for all the categorical features for both train and test data\n",
    "\n",
    "rc_clean_category_train = np.array(response_code('clean_categories',X_train))\n",
    "rc_clean_category_test = np.array(response_code('clean_categories',X_test))\n",
    "\n",
    "\n",
    "rc_clean_subcategory_train = np.array(response_code('clean_subcategories',X_train))\n",
    "rc_clean_subcategory_test = np.array(response_code('clean_subcategories',X_test))\n",
    "\n",
    "\n",
    "rc_project_grade_category_train = np.array(response_code('project_grade_category',X_train))\n",
    "rc_project_grade_category_test = np.array(response_code('project_grade_category',X_test))\n",
    "\n",
    "\n",
    "rc_school_state_train = np.array(response_code('school_state',X_train))\n",
    "rc_school_state_test = np.array(response_code('school_state',X_test))\n",
    "\n",
    "\n",
    "rc_teacher_prefix_train = np.array(response_code('teacher_prefix',X_train))\n",
    "rc_teacher_prefix_test = np.array(response_code('teacher_prefix',X_test))\n"
   ]
  },
  {
   "cell_type": "code",
   "execution_count": 71,
   "metadata": {},
   "outputs": [
    {
     "name": "stdout",
     "output_type": "stream",
     "text": [
      "(35000, 2)\n"
     ]
    }
   ],
   "source": [
    "print(rc_clean_category_train.shape)"
   ]
  },
  {
   "cell_type": "markdown",
   "metadata": {},
   "source": [
    "**STACKING all the features SET 1**"
   ]
  },
  {
   "cell_type": "code",
   "execution_count": 72,
   "metadata": {},
   "outputs": [],
   "source": [
    "X_train_tfidf = hstack((tfidf_essay_train,sent_pos_train,sent_neg_train,sent_neu_train,sent_compound_train,norm_price_train,norm_teacher_n_previously_posted_projects_train,rc_clean_category_train,rc_clean_subcategory_train,rc_project_grade_category_train,rc_school_state_train,rc_teacher_prefix_train))\n",
    "X_test_tfidf = hstack((tfidf_essay_test,sent_pos_test,sent_neg_test,sent_neu_test,sent_compound_test,norm_price_test,norm_teacher_n_previously_posted_projects_test,rc_clean_category_test,rc_clean_subcategory_test,rc_project_grade_category_test,rc_school_state_test,rc_teacher_prefix_test))"
   ]
  },
  {
   "cell_type": "code",
   "execution_count": 73,
   "metadata": {
    "scrolled": true
   },
   "outputs": [
    {
     "name": "stdout",
     "output_type": "stream",
     "text": [
      "(35000, 6516) (15000, 6516)\n"
     ]
    }
   ],
   "source": [
    "print(X_train_tfidf.shape,X_test_tfidf.shape)"
   ]
  },
  {
   "cell_type": "markdown",
   "metadata": {},
   "source": [
    "**STACKING all the features SET 2**"
   ]
  },
  {
   "cell_type": "code",
   "execution_count": 74,
   "metadata": {},
   "outputs": [],
   "source": [
    "X_train_tfidfw2v = hstack((tfidfw2v_essay_train,sent_pos_train,sent_neg_train,sent_neu_train,sent_compound_train,norm_price_train,norm_teacher_n_previously_posted_projects_train,rc_clean_category_train,rc_clean_subcategory_train,rc_project_grade_category_train,rc_school_state_train,rc_teacher_prefix_train))\n",
    "X_test_tfidfw2v = hstack((tfidfw2v_essay_test,sent_pos_test,sent_neg_test,sent_neu_test,sent_compound_test,norm_price_test,norm_teacher_n_previously_posted_projects_test,rc_clean_category_test,rc_clean_subcategory_test,rc_project_grade_category_test,rc_school_state_test,rc_teacher_prefix_test))"
   ]
  },
  {
   "cell_type": "code",
   "execution_count": 75,
   "metadata": {},
   "outputs": [
    {
     "name": "stdout",
     "output_type": "stream",
     "text": [
      "(35000, 316) (15000, 316)\n"
     ]
    }
   ],
   "source": [
    "print(X_train_tfidfw2v.shape,X_test_tfidfw2v.shape)"
   ]
  },
  {
   "cell_type": "markdown",
   "metadata": {
    "colab_type": "text",
    "id": "I5wDFj17sc3-"
   },
   "source": [
    "<h2>1.5 Appling Models on different kind of featurization as mentioned in the instructions</h2>"
   ]
  },
  {
   "cell_type": "markdown",
   "metadata": {
    "colab_type": "text",
    "id": "O5tWox1jsc3_"
   },
   "source": [
    "<br>Apply GBDT on different kind of featurization as mentioned in the instructions\n",
    "<br> For Every model that you work on make sure you do the step 2 and step 3 of instrucations"
   ]
  },
  {
   "cell_type": "markdown",
   "metadata": {
    "colab": {},
    "colab_type": "code",
    "id": "ARWulYUwsc4B"
   },
   "source": [
    "# Hyper Parameter Tuning"
   ]
  },
  {
   "cell_type": "code",
   "execution_count": 24,
   "metadata": {},
   "outputs": [],
   "source": [
    "param = {'max_depth':  [1, 5, 10, 50], 'min_samples_split': [5, 10, 100, 500]}\n",
    "GBDT = GradientBoostingClassifier()\n",
    "\n",
    "model_1 = GridSearchCV(GBDT,param,cv=3,return_train_score=True,scoring='roc_auc',verbose=10)\n",
    "\n",
    "model_2 = RandomizedSearchCV(GBDT,param,cv=3,return_train_score=True,n_jobs=-1,scoring='roc_auc',verbose=20)"
   ]
  },
  {
   "cell_type": "code",
   "execution_count": 71,
   "metadata": {
    "scrolled": true
   },
   "outputs": [
    {
     "name": "stdout",
     "output_type": "stream",
     "text": [
      "Fitting 3 folds for each of 16 candidates, totalling 48 fits\n",
      "[CV] max_depth=1, min_samples_split=5 ................................\n"
     ]
    },
    {
     "name": "stderr",
     "output_type": "stream",
     "text": [
      "[Parallel(n_jobs=1)]: Using backend SequentialBackend with 1 concurrent workers.\n"
     ]
    },
    {
     "name": "stdout",
     "output_type": "stream",
     "text": [
      "[CV]  max_depth=1, min_samples_split=5, score=(train=0.690, test=0.665), total= 2.1min\n",
      "[CV] max_depth=1, min_samples_split=5 ................................\n"
     ]
    },
    {
     "name": "stderr",
     "output_type": "stream",
     "text": [
      "[Parallel(n_jobs=1)]: Done   1 out of   1 | elapsed:  2.1min remaining:    0.0s\n"
     ]
    },
    {
     "name": "stdout",
     "output_type": "stream",
     "text": [
      "[CV]  max_depth=1, min_samples_split=5, score=(train=0.686, test=0.672), total= 2.2min\n",
      "[CV] max_depth=1, min_samples_split=5 ................................\n"
     ]
    },
    {
     "name": "stderr",
     "output_type": "stream",
     "text": [
      "[Parallel(n_jobs=1)]: Done   2 out of   2 | elapsed:  4.3min remaining:    0.0s\n"
     ]
    },
    {
     "name": "stdout",
     "output_type": "stream",
     "text": [
      "[CV]  max_depth=1, min_samples_split=5, score=(train=0.690, test=0.672), total= 2.0min\n",
      "[CV] max_depth=1, min_samples_split=10 ...............................\n"
     ]
    },
    {
     "name": "stderr",
     "output_type": "stream",
     "text": [
      "[Parallel(n_jobs=1)]: Done   3 out of   3 | elapsed:  6.4min remaining:    0.0s\n"
     ]
    },
    {
     "name": "stdout",
     "output_type": "stream",
     "text": [
      "[CV]  max_depth=1, min_samples_split=10, score=(train=0.690, test=0.665), total= 1.9min\n",
      "[CV] max_depth=1, min_samples_split=10 ...............................\n"
     ]
    },
    {
     "name": "stderr",
     "output_type": "stream",
     "text": [
      "[Parallel(n_jobs=1)]: Done   4 out of   4 | elapsed:  8.3min remaining:    0.0s\n"
     ]
    },
    {
     "name": "stdout",
     "output_type": "stream",
     "text": [
      "[CV]  max_depth=1, min_samples_split=10, score=(train=0.686, test=0.672), total= 1.9min\n",
      "[CV] max_depth=1, min_samples_split=10 ...............................\n"
     ]
    },
    {
     "name": "stderr",
     "output_type": "stream",
     "text": [
      "[Parallel(n_jobs=1)]: Done   5 out of   5 | elapsed: 10.2min remaining:    0.0s\n"
     ]
    },
    {
     "name": "stdout",
     "output_type": "stream",
     "text": [
      "[CV]  max_depth=1, min_samples_split=10, score=(train=0.690, test=0.672), total= 1.9min\n",
      "[CV] max_depth=1, min_samples_split=100 ..............................\n"
     ]
    },
    {
     "name": "stderr",
     "output_type": "stream",
     "text": [
      "[Parallel(n_jobs=1)]: Done   6 out of   6 | elapsed: 12.1min remaining:    0.0s\n"
     ]
    },
    {
     "name": "stdout",
     "output_type": "stream",
     "text": [
      "[CV]  max_depth=1, min_samples_split=100, score=(train=0.690, test=0.665), total= 1.9min\n",
      "[CV] max_depth=1, min_samples_split=100 ..............................\n"
     ]
    },
    {
     "name": "stderr",
     "output_type": "stream",
     "text": [
      "[Parallel(n_jobs=1)]: Done   7 out of   7 | elapsed: 14.0min remaining:    0.0s\n"
     ]
    },
    {
     "name": "stdout",
     "output_type": "stream",
     "text": [
      "[CV]  max_depth=1, min_samples_split=100, score=(train=0.686, test=0.672), total= 1.9min\n",
      "[CV] max_depth=1, min_samples_split=100 ..............................\n"
     ]
    },
    {
     "name": "stderr",
     "output_type": "stream",
     "text": [
      "[Parallel(n_jobs=1)]: Done   8 out of   8 | elapsed: 15.9min remaining:    0.0s\n"
     ]
    },
    {
     "name": "stdout",
     "output_type": "stream",
     "text": [
      "[CV]  max_depth=1, min_samples_split=100, score=(train=0.690, test=0.672), total= 1.9min\n",
      "[CV] max_depth=1, min_samples_split=500 ..............................\n"
     ]
    },
    {
     "name": "stderr",
     "output_type": "stream",
     "text": [
      "[Parallel(n_jobs=1)]: Done   9 out of   9 | elapsed: 17.7min remaining:    0.0s\n"
     ]
    },
    {
     "name": "stdout",
     "output_type": "stream",
     "text": [
      "[CV]  max_depth=1, min_samples_split=500, score=(train=0.690, test=0.665), total= 1.9min\n",
      "[CV] max_depth=1, min_samples_split=500 ..............................\n",
      "[CV]  max_depth=1, min_samples_split=500, score=(train=0.686, test=0.672), total= 1.9min\n",
      "[CV] max_depth=1, min_samples_split=500 ..............................\n",
      "[CV]  max_depth=1, min_samples_split=500, score=(train=0.690, test=0.672), total= 1.9min\n",
      "[CV] max_depth=5, min_samples_split=5 ................................\n",
      "[CV]  max_depth=5, min_samples_split=5, score=(train=0.889, test=0.685), total= 9.1min\n",
      "[CV] max_depth=5, min_samples_split=5 ................................\n",
      "[CV]  max_depth=5, min_samples_split=5, score=(train=0.897, test=0.685), total= 9.0min\n",
      "[CV] max_depth=5, min_samples_split=5 ................................\n",
      "[CV]  max_depth=5, min_samples_split=5, score=(train=0.895, test=0.692), total= 9.0min\n",
      "[CV] max_depth=5, min_samples_split=10 ...............................\n",
      "[CV]  max_depth=5, min_samples_split=10, score=(train=0.885, test=0.683), total= 9.0min\n",
      "[CV] max_depth=5, min_samples_split=10 ...............................\n",
      "[CV]  max_depth=5, min_samples_split=10, score=(train=0.890, test=0.685), total= 9.0min\n",
      "[CV] max_depth=5, min_samples_split=10 ...............................\n",
      "[CV]  max_depth=5, min_samples_split=10, score=(train=0.888, test=0.690), total= 9.0min\n",
      "[CV] max_depth=5, min_samples_split=100 ..............................\n",
      "[CV]  max_depth=5, min_samples_split=100, score=(train=0.872, test=0.688), total= 9.0min\n",
      "[CV] max_depth=5, min_samples_split=100 ..............................\n",
      "[CV]  max_depth=5, min_samples_split=100, score=(train=0.873, test=0.687), total= 9.0min\n",
      "[CV] max_depth=5, min_samples_split=100 ..............................\n",
      "[CV]  max_depth=5, min_samples_split=100, score=(train=0.871, test=0.694), total= 8.9min\n",
      "[CV] max_depth=5, min_samples_split=500 ..............................\n",
      "[CV]  max_depth=5, min_samples_split=500, score=(train=0.849, test=0.689), total= 8.9min\n",
      "[CV] max_depth=5, min_samples_split=500 ..............................\n",
      "[CV]  max_depth=5, min_samples_split=500, score=(train=0.850, test=0.690), total= 8.8min\n",
      "[CV] max_depth=5, min_samples_split=500 ..............................\n",
      "[CV]  max_depth=5, min_samples_split=500, score=(train=0.855, test=0.691), total= 8.8min\n",
      "[CV] max_depth=10, min_samples_split=5 ...............................\n",
      "[CV]  max_depth=10, min_samples_split=5, score=(train=0.991, test=0.677), total=18.7min\n",
      "[CV] max_depth=10, min_samples_split=5 ...............................\n",
      "[CV]  max_depth=10, min_samples_split=5, score=(train=0.990, test=0.682), total=18.7min\n",
      "[CV] max_depth=10, min_samples_split=5 ...............................\n",
      "[CV]  max_depth=10, min_samples_split=5, score=(train=0.993, test=0.679), total=18.7min\n",
      "[CV] max_depth=10, min_samples_split=10 ..............................\n",
      "[CV]  max_depth=10, min_samples_split=10, score=(train=0.988, test=0.679), total=18.4min\n",
      "[CV] max_depth=10, min_samples_split=10 ..............................\n",
      "[CV]  max_depth=10, min_samples_split=10, score=(train=0.989, test=0.681), total=18.5min\n",
      "[CV] max_depth=10, min_samples_split=10 ..............................\n",
      "[CV]  max_depth=10, min_samples_split=10, score=(train=0.989, test=0.682), total=19.0min\n",
      "[CV] max_depth=10, min_samples_split=100 .............................\n",
      "[CV]  max_depth=10, min_samples_split=100, score=(train=0.967, test=0.681), total=18.6min\n",
      "[CV] max_depth=10, min_samples_split=100 .............................\n",
      "[CV]  max_depth=10, min_samples_split=100, score=(train=0.970, test=0.687), total=18.4min\n",
      "[CV] max_depth=10, min_samples_split=100 .............................\n",
      "[CV]  max_depth=10, min_samples_split=100, score=(train=0.971, test=0.690), total=18.1min\n",
      "[CV] max_depth=10, min_samples_split=500 .............................\n",
      "[CV]  max_depth=10, min_samples_split=500, score=(train=0.943, test=0.688), total=17.7min\n",
      "[CV] max_depth=10, min_samples_split=500 .............................\n",
      "[CV]  max_depth=10, min_samples_split=500, score=(train=0.943, test=0.687), total=17.6min\n",
      "[CV] max_depth=10, min_samples_split=500 .............................\n",
      "[CV]  max_depth=10, min_samples_split=500, score=(train=0.946, test=0.692), total=17.5min\n",
      "[CV] max_depth=50, min_samples_split=5 ...............................\n",
      "[CV]  max_depth=50, min_samples_split=5, score=(train=1.000, test=0.641), total=107.0min\n",
      "[CV] max_depth=50, min_samples_split=5 ...............................\n",
      "[CV]  max_depth=50, min_samples_split=5, score=(train=1.000, test=0.637), total=106.5min\n",
      "[CV] max_depth=50, min_samples_split=5 ...............................\n",
      "[CV]  max_depth=50, min_samples_split=5, score=(train=1.000, test=0.648), total=107.5min\n",
      "[CV] max_depth=50, min_samples_split=10 ..............................\n",
      "[CV]  max_depth=50, min_samples_split=10, score=(train=1.000, test=0.641), total=102.8min\n",
      "[CV] max_depth=50, min_samples_split=10 ..............................\n",
      "[CV]  max_depth=50, min_samples_split=10, score=(train=1.000, test=0.634), total=107.3min\n",
      "[CV] max_depth=50, min_samples_split=10 ..............................\n",
      "[CV]  max_depth=50, min_samples_split=10, score=(train=1.000, test=0.647), total=106.6min\n",
      "[CV] max_depth=50, min_samples_split=100 .............................\n",
      "[CV]  max_depth=50, min_samples_split=100, score=(train=1.000, test=0.658), total=95.9min\n",
      "[CV] max_depth=50, min_samples_split=100 .............................\n",
      "[CV]  max_depth=50, min_samples_split=100, score=(train=1.000, test=0.656), total=97.2min\n",
      "[CV] max_depth=50, min_samples_split=100 .............................\n",
      "[CV]  max_depth=50, min_samples_split=100, score=(train=1.000, test=0.653), total=97.2min\n",
      "[CV] max_depth=50, min_samples_split=500 .............................\n",
      "[CV]  max_depth=50, min_samples_split=500, score=(train=1.000, test=0.675), total=84.5min\n",
      "[CV] max_depth=50, min_samples_split=500 .............................\n",
      "[CV]  max_depth=50, min_samples_split=500, score=(train=1.000, test=0.672), total=84.8min\n",
      "[CV] max_depth=50, min_samples_split=500 .............................\n",
      "[CV]  max_depth=50, min_samples_split=500, score=(train=1.000, test=0.674), total=90.3min\n"
     ]
    },
    {
     "name": "stderr",
     "output_type": "stream",
     "text": [
      "[Parallel(n_jobs=1)]: Done  48 out of  48 | elapsed: 1539.3min finished\n"
     ]
    },
    {
     "data": {
      "text/plain": [
       "GridSearchCV(cv=3, error_score=nan,\n",
       "             estimator=GradientBoostingClassifier(ccp_alpha=0.0,\n",
       "                                                  criterion='friedman_mse',\n",
       "                                                  init=None, learning_rate=0.1,\n",
       "                                                  loss='deviance', max_depth=3,\n",
       "                                                  max_features=None,\n",
       "                                                  max_leaf_nodes=None,\n",
       "                                                  min_impurity_decrease=0.0,\n",
       "                                                  min_impurity_split=None,\n",
       "                                                  min_samples_leaf=1,\n",
       "                                                  min_samples_split=2,\n",
       "                                                  min_weight_fraction_leaf=0.0,\n",
       "                                                  n_estimators=100,\n",
       "                                                  n_iter_no_change=None,\n",
       "                                                  presort='deprecated',\n",
       "                                                  random_state=None,\n",
       "                                                  subsample=1.0, tol=0.0001,\n",
       "                                                  validation_fraction=0.1,\n",
       "                                                  verbose=0, warm_start=False),\n",
       "             iid='deprecated', n_jobs=None,\n",
       "             param_grid={'max_depth': [1, 5, 10, 50],\n",
       "                         'min_samples_split': [5, 10, 100, 500]},\n",
       "             pre_dispatch='2*n_jobs', refit=True, return_train_score=True,\n",
       "             scoring='roc_auc', verbose=10)"
      ]
     },
     "execution_count": 71,
     "metadata": {},
     "output_type": "execute_result"
    }
   ],
   "source": [
    "model_1.fit(X_train_tfidf,y_train)"
   ]
  },
  {
   "cell_type": "code",
   "execution_count": 25,
   "metadata": {},
   "outputs": [
    {
     "name": "stdout",
     "output_type": "stream",
     "text": [
      "Fitting 3 folds for each of 10 candidates, totalling 30 fits\n"
     ]
    },
    {
     "name": "stderr",
     "output_type": "stream",
     "text": [
      "[Parallel(n_jobs=-1)]: Using backend LokyBackend with 2 concurrent workers.\n",
      "[Parallel(n_jobs=-1)]: Done   1 tasks      | elapsed: 31.8min\n",
      "[Parallel(n_jobs=-1)]: Done   2 tasks      | elapsed: 31.8min\n",
      "[Parallel(n_jobs=-1)]: Done   3 tasks      | elapsed: 63.3min\n",
      "[Parallel(n_jobs=-1)]: Done   4 tasks      | elapsed: 100.8min\n",
      "[Parallel(n_jobs=-1)]: Done   5 tasks      | elapsed: 133.1min\n",
      "[Parallel(n_jobs=-1)]: Done   6 tasks      | elapsed: 170.8min\n",
      "[Parallel(n_jobs=-1)]: Done   7 tasks      | elapsed: 234.0min\n",
      "[Parallel(n_jobs=-1)]: Done   8 tasks      | elapsed: 270.3min\n",
      "[Parallel(n_jobs=-1)]: Done   9 tasks      | elapsed: 335.0min\n",
      "[Parallel(n_jobs=-1)]: Done  10 tasks      | elapsed: 346.2min\n",
      "[Parallel(n_jobs=-1)]: Done  11 tasks      | elapsed: 411.7min\n",
      "[Parallel(n_jobs=-1)]: Done  12 tasks      | elapsed: 418.2min\n",
      "[Parallel(n_jobs=-1)]: Done  13 tasks      | elapsed: 422.2min\n",
      "[Parallel(n_jobs=-1)]: Done  14 tasks      | elapsed: 424.6min\n",
      "[Parallel(n_jobs=-1)]: Done  15 tasks      | elapsed: 428.7min\n",
      "[Parallel(n_jobs=-1)]: Done  16 tasks      | elapsed: 677.4min\n",
      "[Parallel(n_jobs=-1)]: Done  17 tasks      | elapsed: 682.2min\n",
      "[Parallel(n_jobs=-1)]: Done  18 tasks      | elapsed: 715.4min\n",
      "[Parallel(n_jobs=-1)]: Done  19 tasks      | elapsed: 748.5min\n",
      "[Parallel(n_jobs=-1)]: Done  20 tasks      | elapsed: 781.2min\n",
      "[Parallel(n_jobs=-1)]: Done  21 tasks      | elapsed: 934.1min\n",
      "[Parallel(n_jobs=-1)]: Done  22 tasks      | elapsed: 1007.1min\n",
      "[Parallel(n_jobs=-1)]: Done  23 tasks      | elapsed: 1153.1min\n",
      "[Parallel(n_jobs=-1)]: Done  24 tasks      | elapsed: 1216.3min\n",
      "[Parallel(n_jobs=-1)]: Done  25 tasks      | elapsed: 1240.2min\n",
      "[Parallel(n_jobs=-1)]: Done  26 tasks      | elapsed: 1278.0min\n",
      "[Parallel(n_jobs=-1)]: Done  27 tasks      | elapsed: 1301.6min\n",
      "[Parallel(n_jobs=-1)]: Done  30 out of  30 | elapsed: 1430.4min finished\n"
     ]
    },
    {
     "data": {
      "text/plain": [
       "RandomizedSearchCV(cv=3, error_score=nan,\n",
       "                   estimator=GradientBoostingClassifier(ccp_alpha=0.0,\n",
       "                                                        criterion='friedman_mse',\n",
       "                                                        init=None,\n",
       "                                                        learning_rate=0.1,\n",
       "                                                        loss='deviance',\n",
       "                                                        max_depth=3,\n",
       "                                                        max_features=None,\n",
       "                                                        max_leaf_nodes=None,\n",
       "                                                        min_impurity_decrease=0.0,\n",
       "                                                        min_impurity_split=None,\n",
       "                                                        min_samples_leaf=1,\n",
       "                                                        min_samples_split=2,\n",
       "                                                        min_weight_fraction_leaf=0.0,\n",
       "                                                        n_estimators=100,\n",
       "                                                        n_ite...ange=None,\n",
       "                                                        presort='deprecated',\n",
       "                                                        random_state=None,\n",
       "                                                        subsample=1.0,\n",
       "                                                        tol=0.0001,\n",
       "                                                        validation_fraction=0.1,\n",
       "                                                        verbose=0,\n",
       "                                                        warm_start=False),\n",
       "                   iid='deprecated', n_iter=10, n_jobs=-1,\n",
       "                   param_distributions={'max_depth': [1, 5, 10, 50],\n",
       "                                        'min_samples_split': [5, 10, 100, 500]},\n",
       "                   pre_dispatch='2*n_jobs', random_state=None, refit=True,\n",
       "                   return_train_score=True, scoring='roc_auc', verbose=20)"
      ]
     },
     "execution_count": 25,
     "metadata": {},
     "output_type": "execute_result"
    }
   ],
   "source": [
    "model_2.fit(X_train_tfidfw2v,y_train)"
   ]
  },
  {
   "cell_type": "code",
   "execution_count": 73,
   "metadata": {},
   "outputs": [
    {
     "name": "stdout",
     "output_type": "stream",
     "text": [
      "Best value of hyperparameter for TFIDF based model max depth : 5 and min sample split : 500\n"
     ]
    }
   ],
   "source": [
    "print('Best value of hyperparameter for TFIDF based model max depth : {} and min sample split : {}'.format(model_1.best_params_['max_depth'],model_1.best_params_['min_samples_split']))\n",
    "\n"
   ]
  },
  {
   "cell_type": "code",
   "execution_count": 26,
   "metadata": {},
   "outputs": [
    {
     "name": "stdout",
     "output_type": "stream",
     "text": [
      "Best value of hyperparameter for TFIDF-W2V based model max depth : 5 and min sample split : 5\n"
     ]
    }
   ],
   "source": [
    "print('Best value of hyperparameter for TFIDF-W2V based model max depth : {} and min sample split : {}'.format(model_2.best_params_['max_depth'],model_2.best_params_['min_samples_split']))\n"
   ]
  },
  {
   "cell_type": "markdown",
   "metadata": {},
   "source": [
    "# Performance of the model using heatmap (TFIDF)"
   ]
  },
  {
   "cell_type": "code",
   "execution_count": 75,
   "metadata": {},
   "outputs": [
    {
     "data": {
      "image/png": "[encoded data removed]",
      "text/plain": [
       "<Figure size 432x288 with 2 Axes>"
      ]
     },
     "metadata": {
      "needs_background": "light"
     },
     "output_type": "display_data"
    }
   ],
   "source": [
    "scores = pd.DataFrame(model_1.cv_results_).groupby(['param_min_samples_split', 'param_max_depth']).max().unstack()[['mean_test_score','mean_train_score']]\n",
    "sns.heatmap(scores.mean_train_score, annot = True, fmt='.4g')\n",
    "\n",
    "plt.title('Train AUC')\n",
    "\n",
    "plt.show()"
   ]
  },
  {
   "cell_type": "code",
   "execution_count": 76,
   "metadata": {},
   "outputs": [
    {
     "data": {
      "image/png": "[encoded data removed]",
      "text/plain": [
       "<Figure size 432x288 with 2 Axes>"
      ]
     },
     "metadata": {
      "needs_background": "light"
     },
     "output_type": "display_data"
    }
   ],
   "source": [
    "sns.heatmap(scores.mean_test_score, annot = True, fmt='.4g')\n",
    "plt.title('CV AUC')\n",
    "plt.show()"
   ]
  },
  {
   "cell_type": "markdown",
   "metadata": {},
   "source": [
    "# Performance of the model using heatmap (TFIDF - W2V)\n"
   ]
  },
  {
   "cell_type": "code",
   "execution_count": null,
   "metadata": {},
   "outputs": [],
   "source": [
    "scores = pd.DataFrame(model_2.cv_results_).groupby(['param_min_samples_split', 'param_max_depth']).max().unstack()[['mean_test_score','mean_train_score']]\n",
    "sns.heatmap(scores.mean_train_score, annot = True, fmt='.4g')\n",
    "\n",
    "plt.title('Train AUC')\n",
    "\n",
    "plt.show()"
   ]
  },
  {
   "cell_type": "code",
   "execution_count": null,
   "metadata": {},
   "outputs": [],
   "source": [
    "sns.heatmap(scores.mean_test_score, annot = True, fmt='.4g')\n",
    "plt.title('CV AUC')\n",
    "plt.show()"
   ]
  },
  {
   "cell_type": "markdown",
   "metadata": {},
   "source": [
    "# ROC curve and best AUC score(TFIDF)"
   ]
  },
  {
   "cell_type": "code",
   "execution_count": 77,
   "metadata": {},
   "outputs": [
    {
     "data": {
      "image/png": "[encoded data removed]",
      "text/plain": [
       "<Figure size 432x288 with 1 Axes>"
      ]
     },
     "metadata": {
      "needs_background": "light"
     },
     "output_type": "display_data"
    },
    {
     "name": "stdout",
     "output_type": "stream",
     "text": [
      "Best AUC for the model is 0.69566 \n"
     ]
    }
   ],
   "source": [
    "clf = GradientBoostingClassifier(max_depth=5,min_samples_split=500)\n",
    "clf.fit(X_train_tfidf,y_train)\n",
    "\n",
    "\n",
    "y_pred_train = clf.predict_proba(X_train_tfidf)\n",
    "y_pred_test = clf.predict_proba(X_test_tfidf)\n",
    "\n",
    "#taking the probabilit scores instead of the predicted label\n",
    "#predict_proba returns probabilty scores which is in the 2nd column thus taking the second column\n",
    "fpr_train,tpr_train,threshold_train = roc_curve(y_train,y_pred_train[:,1])\n",
    "fpr_test,tpr_test,threshold_test = roc_curve(y_test,y_pred_test[:,1])\n",
    "\n",
    "train_auc = round(auc(fpr_train,tpr_train),5)\n",
    "test_auc = round(auc(fpr_test,tpr_test),5)\n",
    "\n",
    "plt.plot(fpr_train,tpr_train,color='red',label='train-auc = '+str(train_auc))\n",
    "plt.plot(fpr_test,tpr_test,color='blue',label='test-auc = '+str(test_auc))\n",
    "plt.plot(np.array([0,1]),np.array([0,1]),color='black',label='random model auc = '+str(0.5))\n",
    "plt.xlabel('False Positive Rate(FPR)')\n",
    "plt.ylabel('True Positive Rate(TPR)')\n",
    "plt.title('ROC curve')\n",
    "plt.legend()\n",
    "plt.show()\n",
    "print('Best AUC for the model is {} '.format(test_auc))"
   ]
  },
  {
   "cell_type": "markdown",
   "metadata": {},
   "source": [
    "# Confusion Matrix (TFIDF)"
   ]
  },
  {
   "cell_type": "code",
   "execution_count": 29,
   "metadata": {},
   "outputs": [],
   "source": [
    "def predict(proba, threshould, fpr, tpr):\n",
    "    \n",
    "    t = threshould[np.argmax(fpr*(1-tpr))]\n",
    "    \n",
    "    # (tpr*(1-fpr)) will be maximum if your fpr is very low and tpr is very high\n",
    "    \n",
    "    print(\"the maximum value of tpr*(1-fpr)\", max(tpr*(1-fpr)), \"for threshold\", np.round(t,3))\n",
    "    predictions = []\n",
    "    for i in proba:\n",
    "        if i>=t:\n",
    "            predictions.append(1)\n",
    "        else:\n",
    "            predictions.append(0)\n",
    "    return predictions"
   ]
  },
  {
   "cell_type": "code",
   "execution_count": 79,
   "metadata": {},
   "outputs": [
    {
     "name": "stdout",
     "output_type": "stream",
     "text": [
      "the maximum value of tpr*(1-fpr) 0.4099031321205547 for threshold 0.854\n"
     ]
    },
    {
     "data": {
      "image/png": "[encoded data removed]",
      "text/plain": [
       "<Figure size 432x288 with 2 Axes>"
      ]
     },
     "metadata": {
      "needs_background": "light"
     },
     "output_type": "display_data"
    }
   ],
   "source": [
    "predicted = predict(y_pred_test[:,1],threshold_test,fpr_test,tpr_test)\n",
    "confusion_matrix_test = pd.DataFrame(confusion_matrix(y_test,predicted))\n",
    "sns.heatmap(confusion_matrix_test,annot=True,annot_kws={\"size\": 16}, fmt='g')\n",
    "plt.title('Confusion Matrix')\n",
    "plt.show()"
   ]
  },
  {
   "cell_type": "markdown",
   "metadata": {},
   "source": [
    "# ROC curve and best AUC score(TFIDF W2V)"
   ]
  },
  {
   "cell_type": "code",
   "execution_count": 28,
   "metadata": {},
   "outputs": [
    {
     "data": {
      "image/png": "[encoded data removed]",
      "text/plain": [
       "<Figure size 432x288 with 1 Axes>"
      ]
     },
     "metadata": {
      "needs_background": "light"
     },
     "output_type": "display_data"
    },
    {
     "name": "stdout",
     "output_type": "stream",
     "text": [
      "Best AUC for the model is 0.70633 \n"
     ]
    }
   ],
   "source": [
    "clf = GradientBoostingClassifier(max_depth=5,min_samples_split=5)\n",
    "clf.fit(X_train_tfidfw2v,y_train)\n",
    "\n",
    "y_pred_train = clf.predict_proba(X_train_tfidfw2v)\n",
    "y_pred_test = clf.predict_proba(X_test_tfidfw2v)\n",
    "\n",
    "#taking the probabilit scores instead of the predicted label\n",
    "#predict_proba returns probabilty scores which is in the 2nd column thus taking the second column\n",
    "fpr_train,tpr_train,threshold_train = roc_curve(y_train,y_pred_train[:,1])\n",
    "fpr_test,tpr_test,threshold_test = roc_curve(y_test,y_pred_test[:,1])\n",
    "\n",
    "train_auc = round(auc(fpr_train,tpr_train),5)\n",
    "test_auc = round(auc(fpr_test,tpr_test),5)\n",
    "\n",
    "plt.plot(fpr_train,tpr_train,color='red',label='train-auc = '+str(train_auc))\n",
    "plt.plot(fpr_test,tpr_test,color='blue',label='test-auc = '+str(test_auc))\n",
    "plt.plot(np.array([0,1]),np.array([0,1]),color='black',label='random model auc = '+str(0.5))\n",
    "plt.xlabel('False Positive Rate(FPR)')\n",
    "plt.ylabel('True Positive Rate(TPR)')\n",
    "plt.title('ROC curve')\n",
    "plt.legend()\n",
    "plt.show()\n",
    "print('Best AUC for the model is {} '.format(test_auc))"
   ]
  },
  {
   "cell_type": "markdown",
   "metadata": {},
   "source": [
    "# Confusion Matrix (TFIDF W2V)"
   ]
  },
  {
   "cell_type": "code",
   "execution_count": 30,
   "metadata": {
    "scrolled": true
   },
   "outputs": [
    {
     "name": "stdout",
     "output_type": "stream",
     "text": [
      "the maximum value of tpr*(1-fpr) 0.42602713591451485 for threshold 0.844\n"
     ]
    },
    {
     "data": {
      "image/png": "[encoded data removed]",
      "text/plain": [
       "<Figure size 432x288 with 2 Axes>"
      ]
     },
     "metadata": {
      "needs_background": "light"
     },
     "output_type": "display_data"
    }
   ],
   "source": [
    "predicted = predict(y_pred_test[:,1],threshold_test,fpr_test,tpr_test)\n",
    "confusion_matrix_test = pd.DataFrame(confusion_matrix(y_test,predicted))\n",
    "sns.heatmap(confusion_matrix_test,annot=True,annot_kws={\"size\": 16}, fmt='g')\n",
    "plt.title('Confusion Matrix')\n",
    "plt.show()"
   ]
  },
  {
   "cell_type": "markdown",
   "metadata": {
    "colab_type": "text",
    "id": "YhFN-lDWsc4G"
   },
   "source": [
    "<h1>3. Summary</h1>\n",
    "\n",
    "<br> as mentioned in the step 4 of instructions"
   ]
  },
  {
   "cell_type": "code",
   "execution_count": 32,
   "metadata": {},
   "outputs": [
    {
     "name": "stdout",
     "output_type": "stream",
     "text": [
      "+--------------+-------------+--------------------+-------------+\n",
      "|  Vectorizer  |  Max_depth  |  Min_sample_split  |  Test -AUC  |\n",
      "+--------------+-------------+--------------------+-------------+\n",
      "|    Tf-Idf    |      5      |        500         |   0.69566   |\n",
      "|  Tf-Idf W2V  |      5      |         5          |   0.70633   |\n",
      "+--------------+-------------+--------------------+-------------+\n"
     ]
    }
   ],
   "source": [
    "from prettytable import PrettyTable\n",
    "table = PrettyTable()\n",
    "table.field_names= (\" Vectorizer \", \" Max_depth \", \" Min_sample_split \",\" Test -AUC \")\n",
    "table.add_row([\" Tf-Idf\", 5 , 500 ,0.69566])\n",
    "table.add_row([\"Tf-Idf W2V\", 5 , 5 ,0.70633])\n",
    "print(table.get_string(titles = \"Decision trees- Observations\")) "
   ]
  }
 ],
 "metadata": {
  "colab": {
   "collapsed_sections": [],
   "name": "11_Assignment_GBDT_Instructions.ipynb",
   "provenance": [],
   "version": "0.3.2"
  },
  "kernelspec": {
   "display_name": "Python 3",
   "language": "python",
   "name": "python3"
  },
  "language_info": {
   "codemirror_mode": {
    "name": "ipython",
    "version": 3
   },
   "file_extension": ".py",
   "mimetype": "text/x-python",
   "name": "python",
   "nbconvert_exporter": "python",
   "pygments_lexer": "ipython3",
   "version": "3.7.6"
  }
 },
 "nbformat": 4,
 "nbformat_minor": 1
}
