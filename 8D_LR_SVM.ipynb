{
 "cells": [
  {
   "cell_type": "markdown",
   "metadata": {
    "colab_type": "text",
    "id": "86Tvnj5UblTy"
   },
   "source": [
    "## Task-D: Collinear features and their effect on linear models"
   ]
  },
  {
   "cell_type": "code",
   "execution_count": 280,
   "metadata": {
    "colab": {},
    "colab_type": "code",
    "id": "qn_eOn2EblT3"
   },
   "outputs": [],
   "source": [
    "%matplotlib inline\n",
    "import warnings\n",
    "warnings.filterwarnings(\"ignore\")\n",
    "import pandas as pd\n",
    "import numpy as np\n",
    "from sklearn.datasets import load_iris\n",
    "from sklearn.linear_model import LogisticRegression\n",
    "from sklearn.linear_model import SGDClassifier\n",
    "from sklearn.model_selection import GridSearchCV\n",
    "from sklearn import metrics\n",
    "import seaborn as sns\n",
    "import matplotlib.pyplot as plt"
   ]
  },
  {
   "cell_type": "code",
   "execution_count": 281,
   "metadata": {
    "colab": {},
    "colab_type": "code",
    "id": "VMoYWIayblUB"
   },
   "outputs": [],
   "source": [
    "data = pd.read_csv('task_d.csv')"
   ]
  },
  {
   "cell_type": "code",
   "execution_count": 282,
   "metadata": {
    "colab": {},
    "colab_type": "code",
    "id": "RfStXG4tblUI",
    "outputId": "ddf4eec6-7f53-4d28-914f-23133957d6d5"
   },
   "outputs": [
    {
     "name": "stdout",
     "output_type": "stream",
     "text": [
      "(100, 8)\n"
     ]
    },
    {
     "data": {
      "text/html": [
       "<div>\n",
       "<style scoped>\n",
       "    .dataframe tbody tr th:only-of-type {\n",
       "        vertical-align: middle;\n",
       "    }\n",
       "\n",
       "    .dataframe tbody tr th {\n",
       "        vertical-align: top;\n",
       "    }\n",
       "\n",
       "    .dataframe thead th {\n",
       "        text-align: right;\n",
       "    }\n",
       "</style>\n",
       "<table border=\"1\" class=\"dataframe\">\n",
       "  <thead>\n",
       "    <tr style=\"text-align: right;\">\n",
       "      <th></th>\n",
       "      <th>x</th>\n",
       "      <th>y</th>\n",
       "      <th>z</th>\n",
       "      <th>x*x</th>\n",
       "      <th>2*y</th>\n",
       "      <th>2*z+3*x*x</th>\n",
       "      <th>w</th>\n",
       "      <th>target</th>\n",
       "    </tr>\n",
       "  </thead>\n",
       "  <tbody>\n",
       "    <tr>\n",
       "      <th>0</th>\n",
       "      <td>-0.581066</td>\n",
       "      <td>0.841837</td>\n",
       "      <td>-1.012978</td>\n",
       "      <td>-0.604025</td>\n",
       "      <td>0.841837</td>\n",
       "      <td>-0.665927</td>\n",
       "      <td>-0.536277</td>\n",
       "      <td>0</td>\n",
       "    </tr>\n",
       "    <tr>\n",
       "      <th>1</th>\n",
       "      <td>-0.894309</td>\n",
       "      <td>-0.207835</td>\n",
       "      <td>-1.012978</td>\n",
       "      <td>-0.883052</td>\n",
       "      <td>-0.207835</td>\n",
       "      <td>-0.917054</td>\n",
       "      <td>-0.522364</td>\n",
       "      <td>0</td>\n",
       "    </tr>\n",
       "    <tr>\n",
       "      <th>2</th>\n",
       "      <td>-1.207552</td>\n",
       "      <td>0.212034</td>\n",
       "      <td>-1.082312</td>\n",
       "      <td>-1.150918</td>\n",
       "      <td>0.212034</td>\n",
       "      <td>-1.166507</td>\n",
       "      <td>0.205738</td>\n",
       "      <td>0</td>\n",
       "    </tr>\n",
       "    <tr>\n",
       "      <th>3</th>\n",
       "      <td>-1.364174</td>\n",
       "      <td>0.002099</td>\n",
       "      <td>-0.943643</td>\n",
       "      <td>-1.280666</td>\n",
       "      <td>0.002099</td>\n",
       "      <td>-1.266540</td>\n",
       "      <td>-0.665720</td>\n",
       "      <td>0</td>\n",
       "    </tr>\n",
       "    <tr>\n",
       "      <th>4</th>\n",
       "      <td>-0.737687</td>\n",
       "      <td>1.051772</td>\n",
       "      <td>-1.012978</td>\n",
       "      <td>-0.744934</td>\n",
       "      <td>1.051772</td>\n",
       "      <td>-0.792746</td>\n",
       "      <td>-0.735054</td>\n",
       "      <td>0</td>\n",
       "    </tr>\n",
       "  </tbody>\n",
       "</table>\n",
       "</div>"
      ],
      "text/plain": [
       "          x         y         z       x*x       2*y  2*z+3*x*x         w  \\\n",
       "0 -0.581066  0.841837 -1.012978 -0.604025  0.841837  -0.665927 -0.536277   \n",
       "1 -0.894309 -0.207835 -1.012978 -0.883052 -0.207835  -0.917054 -0.522364   \n",
       "2 -1.207552  0.212034 -1.082312 -1.150918  0.212034  -1.166507  0.205738   \n",
       "3 -1.364174  0.002099 -0.943643 -1.280666  0.002099  -1.266540 -0.665720   \n",
       "4 -0.737687  1.051772 -1.012978 -0.744934  1.051772  -0.792746 -0.735054   \n",
       "\n",
       "   target  \n",
       "0       0  \n",
       "1       0  \n",
       "2       0  \n",
       "3       0  \n",
       "4       0  "
      ]
     },
     "execution_count": 282,
     "metadata": {},
     "output_type": "execute_result"
    }
   ],
   "source": [
    "print(data.shape)\n",
    "data.head()"
   ]
  },
  {
   "cell_type": "code",
   "execution_count": 283,
   "metadata": {
    "colab": {},
    "colab_type": "code",
    "id": "JIIuomCkblUP"
   },
   "outputs": [
    {
     "data": {
      "text/plain": [
       "(100, 7)"
      ]
     },
     "execution_count": 283,
     "metadata": {},
     "output_type": "execute_result"
    }
   ],
   "source": [
    "X = data.drop(['target'], axis=1).values\n",
    "Y = data['target'].values\n",
    "X.shape"
   ]
  },
  {
   "cell_type": "markdown",
   "metadata": {
    "colab_type": "text",
    "id": "Ydm98u3EblUU"
   },
   "source": [
    "### Doing perturbation test to check the presence of collinearity  \n",
    "\n",
    "#### Task: 1 Logistic Regression\n",
    "<pre>\n",
    "\n",
    "\n",
    "1. <b>Finding the Correlation between the features</b>\n",
    "    a. check the correlation between the features\n",
    "    b. plot heat map of correlation matrix using seaborn heatmap\n",
    "2. <b>Finding the best model for the given data</b>\n",
    "    a. Train Logistic regression on data(X,Y) that we have created in the above cell\n",
    "    b. Find the best hyper prameter alpha with hyper parameter tuning using k-fold cross validation (grid search CV or         \n",
    "    random search CV make sure you choose the alpha in log space)\n",
    "    c. Creat a new Logistic regression with the best alpha\n",
    "    (search for how to get the best hyper parameter value), name the best model as 'best_model'\n",
    "    \n",
    "3. <b>Getting the weights with the original data</b>\n",
    "    a. train the 'best_model' with X, Y\n",
    "    b. Check the accuracy of the model 'best_model_accuracy'\n",
    "    c. Get the weights W using best_model.coef_\n",
    "\n",
    "4. <b>Modifying original data</b>\n",
    "    a. Add a noise(order of 10^-2) to each element of X \n",
    "    and get the new data set X' (X' = X + e)\n",
    "    b. Train the same 'best_model' with data (X', Y)\n",
    "    c. Check the accuracy of the model 'best_model_accuracy_edited'\n",
    "    d. Get the weights W' using best_model.coef_\n",
    "    \n",
    "5. <b> Checking deviations in metric and weights </b>\n",
    "    a. find the difference between 'best_model_accuracy_edited' and 'best_model_accuracy'\n",
    "    b. find the absolute change between each value of W and W' ==> |(W-W')|\n",
    "    c. print the top 4 features which have higher % change in weights \n",
    "    compare to the other feature\n",
    "\n",
    "</pre>\n",
    "\n",
    "#### Task: 2 Linear SVM\n",
    "\n",
    "<pre>\n",
    "1. Do the same steps (2, 3, 4, 5) we have done in the above task 1.\n",
    "</pre>\n",
    "\n",
    "<strong><font color='red'>Do write the observations based on the results you get from the deviations of weights in both Logistic Regression and linear SVM</font></strong>"
   ]
  },
  {
   "cell_type": "markdown",
   "metadata": {
    "colab": {},
    "colab_type": "code",
    "id": "Lai8wXU1pmSb"
   },
   "source": [
    "# Task 1  (Logistic Regression)"
   ]
  },
  {
   "cell_type": "code",
   "execution_count": 284,
   "metadata": {
    "scrolled": true
   },
   "outputs": [
    {
     "data": {
      "image/png": "[encoded data removed]",
      "text/plain": [
       "<Figure size 1440x1152 with 2 Axes>"
      ]
     },
     "metadata": {
      "needs_background": "light"
     },
     "output_type": "display_data"
    }
   ],
   "source": [
    "# 1\n",
    "plt.figure(figsize=(20,16))\n",
    "plt.title('Corelation Heatmap')\n",
    "corltn = data.corr()\n",
    "sns.heatmap(corltn,annot=True)\n",
    "plt.show()"
   ]
  },
  {
   "cell_type": "code",
   "execution_count": 285,
   "metadata": {
    "scrolled": false
   },
   "outputs": [
    {
     "name": "stdout",
     "output_type": "stream",
     "text": [
      "Best value of C {'C': 0.0001}\n"
     ]
    }
   ],
   "source": [
    "# 2\n",
    "c_space = np.logspace(-4, 3, 7)#creates an array of [10^-4 to 10^3 limit 7 values]\n",
    "param_grid = {'C' : c_space}\n",
    "lr_model = LogisticRegression()\n",
    "clf = GridSearchCV(lr_model,param_grid)\n",
    "clf.fit(X,Y)\n",
    "print('Best value of C',clf.best_params_)\n"
   ]
  },
  {
   "cell_type": "code",
   "execution_count": 286,
   "metadata": {},
   "outputs": [
    {
     "name": "stdout",
     "output_type": "stream",
     "text": [
      "Weights of the best model[[ 0.0035963  -0.00341973  0.00479983  0.00355269 -0.00341973  0.00377695\n",
      "   0.00316971]]\n",
      "Accuracy of the best model 100.0%\n"
     ]
    }
   ],
   "source": [
    "#3\n",
    "best_model = LogisticRegression(C=0.0001)\n",
    "best_model.fit(X,Y)\n",
    "y_pred = best_model.predict(X)\n",
    "best_model_accuracy = metrics.accuracy_score(y_pred,Y)\n",
    "W = best_model.coef_\n",
    "print('Weights of the best model{}'.format(W))\n",
    "print('Accuracy of the best model {}%'.format(best_model_accuracy*100))"
   ]
  },
  {
   "cell_type": "code",
   "execution_count": 287,
   "metadata": {
    "scrolled": true
   },
   "outputs": [
    {
     "name": "stdout",
     "output_type": "stream",
     "text": [
      "Accuracy of the best model after outlier 70.29702970297029%\n",
      "Weights of the best model[[ 0.00359582 -0.00342001  0.00479972  0.00355216 -0.00342001  0.00377646\n",
      "   0.00316902]]\n"
     ]
    }
   ],
   "source": [
    "#4\n",
    "\n",
    "row = np.array([10**-2]*7) #creating [0.01,..0.01] as outlier row\n",
    "X_dash = np.vstack((X,row))#adding the outlier\n",
    "Y = np.append(Y,0) # adding a row to Y i.e target to match dimension\n",
    "best_model.fit(X_dash,Y) #fitting the model again with the modified data\n",
    "y_pred = best_model.predict(X_dash)\n",
    "best_model_accuracy_edited = metrics.accuracy_score(y_pred,Y)\n",
    "W_dash = best_model.coef_\n",
    "print('Accuracy of the best model after outlier {}%'.format(best_model_accuracy_edited*100))\n",
    "print('Weights of the best model{}'.format(W_dash))"
   ]
  },
  {
   "cell_type": "code",
   "execution_count": 288,
   "metadata": {
    "scrolled": true
   },
   "outputs": [
    {
     "name": "stdout",
     "output_type": "stream",
     "text": [
      "Absolute change in weights [4.82929844e-07 2.76457016e-07 1.16379249e-07 5.32966529e-07\n",
      " 2.76457016e-07 4.83445197e-07 6.91227322e-07]\n",
      "\n",
      "Feature\t\t\t %Change\n",
      "x  :\t\t 0.013428518868272194\n",
      "y  :\t\t 0.008084169247761053\n",
      "z  :\t\t 0.002424652579026642\n",
      "x*x  :\t\t 0.015001773234959439\n",
      "2*y  :\t\t 0.008084169247761053\n",
      "2*z+3*x*x  :\t\t 0.012799889562092347\n",
      "w  :\t\t 0.021807295249895872\n",
      "\n",
      "Top 4 feature as per highest % change in weights\n",
      "w\n",
      "x*x\n",
      "x\n",
      "2*z+3*x*x\n"
     ]
    }
   ],
   "source": [
    "#\n",
    "\n",
    "def calc_percent_change(a,b):\n",
    "    res = abs(b-a)\n",
    "    perc_ = [abs((res[i]/a[i])*100) for i in range(len(a))]\n",
    "    return perc_\n",
    "\n",
    "\n",
    "difference_in_weights = abs(W - W_dash)\n",
    "print('Absolute change in weights {}'.format(difference_in_weights[0]))\n",
    "percent_change = calc_percent_change(W[0],W_dash[0])\n",
    "print('\\nFeature\\t\\t\\t %Change')\n",
    "top_feature = {}\n",
    "for idx,cols in enumerate((data.drop(['target'],axis=1)).columns):\n",
    "    print(cols,' :\\t\\t',percent_change[idx])\n",
    "    top_feature[percent_change[idx]]  = cols\n",
    "\n",
    "print('\\nTop 4 feature as per highest % change in weights')\n",
    "for j,perc in enumerate(sorted(top_feature,reverse=True)[:4]):\n",
    "    print(top_feature[perc])\n",
    "    "
   ]
  },
  {
   "cell_type": "markdown",
   "metadata": {},
   "source": [
    "# Task 2 (SVM)\n"
   ]
  },
  {
   "cell_type": "code",
   "execution_count": 289,
   "metadata": {},
   "outputs": [
    {
     "data": {
      "text/plain": [
       "(100, 7)"
      ]
     },
     "execution_count": 289,
     "metadata": {},
     "output_type": "execute_result"
    }
   ],
   "source": [
    "#reset the data points\n",
    "\n",
    "X = data.drop(['target'], axis=1).values\n",
    "Y = data['target'].values\n",
    "X.shape"
   ]
  },
  {
   "cell_type": "code",
   "execution_count": 290,
   "metadata": {},
   "outputs": [
    {
     "name": "stdout",
     "output_type": "stream",
     "text": [
      "Best value of C {'alpha': 0.0001}\n"
     ]
    }
   ],
   "source": [
    "# 2\n",
    "c_space = np.logspace(-4, 3, 7)#creates an array of [10^-4 to 10^3 limit 7 values]\n",
    "param_grid = {'alpha' : c_space}\n",
    "svm_model = SGDClassifier(loss='hinge')\n",
    "clf = GridSearchCV(svm_model,param_grid)\n",
    "clf.fit(X,Y)\n",
    "print('Best value of C',clf.best_params_)\n",
    "\n",
    "\n"
   ]
  },
  {
   "cell_type": "code",
   "execution_count": 291,
   "metadata": {},
   "outputs": [
    {
     "name": "stdout",
     "output_type": "stream",
     "text": [
      "Weights of the best model[[ 4.60549157 -6.99003529 19.80601486  3.55221023 -6.99003529  5.58824524\n",
      "   7.50129513]]\n",
      "Accuracy of the best model 100.0%\n"
     ]
    }
   ],
   "source": [
    "#3\n",
    "best_model = SGDClassifier(loss='hinge',alpha=0.0001)\n",
    "best_model.fit(X,Y)\n",
    "y_pred = best_model.predict(X)\n",
    "best_model_accuracy = metrics.accuracy_score(y_pred,Y)\n",
    "W = best_model.coef_\n",
    "print('Weights of the best model{}'.format(W))\n",
    "print('Accuracy of the best model {}%'.format(best_model_accuracy*100))"
   ]
  },
  {
   "cell_type": "code",
   "execution_count": 292,
   "metadata": {},
   "outputs": [
    {
     "name": "stdout",
     "output_type": "stream",
     "text": [
      "Accuracy of the best model after outlier 100.0%\n",
      "Weights of the best model[[ 8.27514241 -7.48254409 18.84114803  6.65609628 -7.48254409  8.26941064\n",
      "   2.47273017]] after adding outliers\n"
     ]
    }
   ],
   "source": [
    "#4\n",
    "\n",
    "row = np.array([10**-2]*7) #creating [0.01,..0.01] as outlier row\n",
    "X_dash = np.vstack((X,row))#adding the outlier\n",
    "Y = np.append(Y,0) # adding a row to Y i.e target to match dimension\n",
    "best_model.fit(X_dash,Y) #fitting the model again with the modified data\n",
    "y_pred = best_model.predict(X_dash)\n",
    "best_model_accuracy_edited = metrics.accuracy_score(y_pred,Y)\n",
    "W_dash = best_model.coef_\n",
    "print('Accuracy of the best model after outlier {}%'.format(best_model_accuracy_edited*100))\n",
    "print('Weights of the best model{} after adding outliers'.format(W_dash))"
   ]
  },
  {
   "cell_type": "code",
   "execution_count": 293,
   "metadata": {
    "scrolled": true
   },
   "outputs": [
    {
     "name": "stdout",
     "output_type": "stream",
     "text": [
      "Absolute change in weights [3.66965085 0.4925088  0.96486683 3.10388605 0.4925088  2.68116541\n",
      " 5.02856496]\n",
      "\n",
      "Feature      %Change\n",
      "x  :  79.67989511990862\n",
      "y  :  7.045870070897468\n",
      "z  :  4.871584906688906\n",
      "x*x  :  87.3790077123605\n",
      "2*y  :  7.045870070897468\n",
      "2*z+3*x*x  :  47.97866403451905\n",
      "w  :  67.03595674840122\n",
      "\n",
      "Top 4 feature as per highest % change in weights\n",
      "x*x\n",
      "x\n",
      "w\n",
      "2*z+3*x*x\n"
     ]
    }
   ],
   "source": [
    "def calc_percent_change(a,b):\n",
    "    res = abs(b-a)\n",
    "    perc_ = [abs((res[i]/a[i])*100) for i in range(len(a))]\n",
    "    return perc_\n",
    "\n",
    "\n",
    "difference_in_weights = abs(W - W_dash)\n",
    "print('Absolute change in weights {}'.format(difference_in_weights[0]))\n",
    "percent_change = calc_percent_change(W[0],W_dash[0])\n",
    "print('\\nFeature      %Change')\n",
    "top_feature = {}\n",
    "for idx,cols in enumerate((data.drop(['target'],axis=1)).columns):\n",
    "    print(cols,' : ',percent_change[idx])\n",
    "    top_feature[percent_change[idx]]  = cols\n",
    "\n",
    "print('\\nTop 4 feature as per highest % change in weights')\n",
    "for j,perc in enumerate(sorted(top_feature,reverse=True)[:4]):\n",
    "    print(top_feature[perc])\n",
    "    "
   ]
  },
  {
   "cell_type": "markdown",
   "metadata": {},
   "source": [
    "# Observations\n",
    "\n",
    "1. Heatmap for the co-relations of all the features show obvious result i.e (x,x*x) are directly co-related hence the co-relation is 1(max). Similary any feature that is used as another feature shows high co-relation\n",
    "\n",
    "\n",
    "2. Best value of C(alpha in case of SVM) found to be 0.0001 for both the models.\n",
    "\n",
    "\n",
    "3. Both the model have a train accuracy of 100% because it is a simple model with simple co-related features, thus is easily fitted by a hyper-plane.\n",
    "\n",
    "\n",
    "4. Important thing to observe is, upon adding an outlier to dataset doesnot impact much to the model weights of the logistic regression implies the model did not change much by the single outlier. As the change in weights is very less.\n",
    "\n",
    "\n",
    "5. However, weights of SVM model changed significantly with the single outlier because percentage change for both the weights is significant for each weight.\n",
    "\n",
    "\n",
    "\n",
    "6. On a similar note accuracy of LR model after the outlier decreased significantly as the model did not try to cope much to the outlier. But SVM model accuracy remained 100% indicating the model is clearly over-fitting.\n",
    "\n",
    "\n",
    "\n",
    "7. We can conclude for this particular dataset, LogisticRegression model is more prone to outlier as compared to linear SVM."
   ]
  }
 ],
 "metadata": {
  "colab": {
   "name": "8D_LR_SVM.ipynb",
   "provenance": []
  },
  "kernelspec": {
   "display_name": "Python 3",
   "language": "python",
   "name": "python3"
  },
  "language_info": {
   "codemirror_mode": {
    "name": "ipython",
    "version": 3
   },
   "file_extension": ".py",
   "mimetype": "text/x-python",
   "name": "python",
   "nbconvert_exporter": "python",
   "pygments_lexer": "ipython3",
   "version": "3.7.6"
  }
 },
 "nbformat": 4,
 "nbformat_minor": 1
}
